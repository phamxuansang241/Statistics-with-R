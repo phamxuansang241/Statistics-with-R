{
 "cells": [
  {
   "cell_type": "markdown",
   "id": "1b70629d",
   "metadata": {},
   "source": [
    "# Bài Thực Hành R - Buổi 1\n",
    "### Các thành viên nhóm:\n",
    "* Phạm Xuân Sang - 20195991\n",
    "* Vũ Thành Huy - 20195968\n",
    "* Hà Huyền Vi - 20196007\n",
    "\n",
    "### I. Thông tin dữ liệu và nhập dữ liệu:\n",
    "\n",
    "**1. Thông tin dữ liệu**:\n",
    "* Nguồn dữ liệu: [archive.ics.uci.edu](http://archive.ics.uci.edu/ml/machine-learning-databases/abalone/)\n",
    "* Số lượng mẫu: 4177\n",
    "* Số thuộc tính - biến (attribute): 9\n",
    "* Thông tin các kiểu dữ liệu:"
   ]
  },
  {
   "cell_type": "code",
   "execution_count": 1,
   "id": "48d8ec4f",
   "metadata": {
    "scrolled": true
   },
   "outputs": [
    {
     "data": {
      "text/html": [
       "<table>\n",
       "<thead><tr><th scope=col>Name</th><th scope=col>Data.Type</th><th scope=col>Meas.</th><th scope=col>Description</th></tr></thead>\n",
       "<tbody>\n",
       "\t<tr><td>Sex                        </td><td>nominal                    </td><td> M or F or and I (infant)  </td><td>                           </td></tr>\n",
       "\t<tr><td>Length                     </td><td>continuous                 </td><td>mm                         </td><td>Longest shell measurement  </td></tr>\n",
       "\t<tr><td>Diameter                   </td><td>continuous                 </td><td>mm                         </td><td>perpendicular to length    </td></tr>\n",
       "\t<tr><td>Height                     </td><td>continuous                 </td><td>mm                         </td><td>with meat in shell         </td></tr>\n",
       "\t<tr><td>Whole weight               </td><td>continuous                 </td><td>grams                      </td><td>whole abalone              </td></tr>\n",
       "\t<tr><td>Shucked weight             </td><td>continuous                 </td><td>grams                      </td><td>weight of meat             </td></tr>\n",
       "\t<tr><td>Viscera weight             </td><td>continuous                 </td><td>grams                      </td><td>gut weight (after bleeding)</td></tr>\n",
       "\t<tr><td>Shell weight               </td><td>continuous                 </td><td>grams                      </td><td>after being dried          </td></tr>\n",
       "\t<tr><td>Rings                      </td><td>integer                    </td><td>                           </td><td>+1.5 gives the age in years</td></tr>\n",
       "</tbody>\n",
       "</table>\n"
      ],
      "text/latex": [
       "\\begin{tabular}{r|llll}\n",
       " Name & Data.Type & Meas. & Description\\\\\n",
       "\\hline\n",
       "\t Sex                         & nominal                     &  M or F or and I (infant)   &                            \\\\\n",
       "\t Length                      & continuous                  & mm                          & Longest shell measurement  \\\\\n",
       "\t Diameter                    & continuous                  & mm                          & perpendicular to length    \\\\\n",
       "\t Height                      & continuous                  & mm                          & with meat in shell         \\\\\n",
       "\t Whole weight                & continuous                  & grams                       & whole abalone              \\\\\n",
       "\t Shucked weight              & continuous                  & grams                       & weight of meat             \\\\\n",
       "\t Viscera weight              & continuous                  & grams                       & gut weight (after bleeding)\\\\\n",
       "\t Shell weight                & continuous                  & grams                       & after being dried          \\\\\n",
       "\t Rings                       & integer                     &                             & +1.5 gives the age in years\\\\\n",
       "\\end{tabular}\n"
      ],
      "text/markdown": [
       "\n",
       "| Name | Data.Type | Meas. | Description |\n",
       "|---|---|---|---|\n",
       "| Sex                         | nominal                     |  M or F or and I (infant)   |                             |\n",
       "| Length                      | continuous                  | mm                          | Longest shell measurement   |\n",
       "| Diameter                    | continuous                  | mm                          | perpendicular to length     |\n",
       "| Height                      | continuous                  | mm                          | with meat in shell          |\n",
       "| Whole weight                | continuous                  | grams                       | whole abalone               |\n",
       "| Shucked weight              | continuous                  | grams                       | weight of meat              |\n",
       "| Viscera weight              | continuous                  | grams                       | gut weight (after bleeding) |\n",
       "| Shell weight                | continuous                  | grams                       | after being dried           |\n",
       "| Rings                       | integer                     |                             | +1.5 gives the age in years |\n",
       "\n"
      ],
      "text/plain": [
       "  Name           Data.Type  Meas.                    \n",
       "1 Sex            nominal     M or F or and I (infant)\n",
       "2 Length         continuous mm                       \n",
       "3 Diameter       continuous mm                       \n",
       "4 Height         continuous mm                       \n",
       "5 Whole weight   continuous grams                    \n",
       "6 Shucked weight continuous grams                    \n",
       "7 Viscera weight continuous grams                    \n",
       "8 Shell weight   continuous grams                    \n",
       "9 Rings          integer                             \n",
       "  Description                \n",
       "1                            \n",
       "2 Longest shell measurement  \n",
       "3 perpendicular to length    \n",
       "4 with meat in shell         \n",
       "5 whole abalone              \n",
       "6 weight of meat             \n",
       "7 gut weight (after bleeding)\n",
       "8 after being dried          \n",
       "9 +1.5 gives the age in years"
      ]
     },
     "metadata": {},
     "output_type": "display_data"
    }
   ],
   "source": [
    "abalone.inf <- read.csv(\"abalone_infor.csv\")\n",
    "abalone.inf"
   ]
  },
  {
   "cell_type": "markdown",
   "id": "6f39b9ec",
   "metadata": {},
   "source": [
    "**2. Nhập dữ liệu**:\n",
    "* Nhập dữ liệu từ file csv:"
   ]
  },
  {
   "cell_type": "code",
   "execution_count": 2,
   "id": "d0e8604c",
   "metadata": {},
   "outputs": [
    {
     "data": {
      "text/html": [
       "<table>\n",
       "<thead><tr><th scope=col>sex</th><th scope=col>length</th><th scope=col>diameter</th><th scope=col>height</th><th scope=col>weight.whole</th><th scope=col>weight.shucked</th><th scope=col>weight.viscera</th><th scope=col>weight.shell</th><th scope=col>rings</th></tr></thead>\n",
       "<tbody>\n",
       "\t<tr><td>M     </td><td>0.455 </td><td>0.365 </td><td>0.095 </td><td>0.5140</td><td>0.2245</td><td>0.1010</td><td>0.150 </td><td>15    </td></tr>\n",
       "\t<tr><td>M     </td><td>0.350 </td><td>0.265 </td><td>0.090 </td><td>0.2255</td><td>0.0995</td><td>0.0485</td><td>0.070 </td><td> 7    </td></tr>\n",
       "\t<tr><td>F     </td><td>0.530 </td><td>0.420 </td><td>0.135 </td><td>0.6770</td><td>0.2565</td><td>0.1415</td><td>0.210 </td><td> 9    </td></tr>\n",
       "\t<tr><td>M     </td><td>0.440 </td><td>0.365 </td><td>0.125 </td><td>0.5160</td><td>0.2155</td><td>0.1140</td><td>0.155 </td><td>10    </td></tr>\n",
       "\t<tr><td>I     </td><td>0.330 </td><td>0.255 </td><td>0.080 </td><td>0.2050</td><td>0.0895</td><td>0.0395</td><td>0.055 </td><td> 7    </td></tr>\n",
       "\t<tr><td>I     </td><td>0.425 </td><td>0.300 </td><td>0.095 </td><td>0.3515</td><td>0.1410</td><td>0.0775</td><td>0.120 </td><td> 8    </td></tr>\n",
       "</tbody>\n",
       "</table>\n"
      ],
      "text/latex": [
       "\\begin{tabular}{r|lllllllll}\n",
       " sex & length & diameter & height & weight.whole & weight.shucked & weight.viscera & weight.shell & rings\\\\\n",
       "\\hline\n",
       "\t M      & 0.455  & 0.365  & 0.095  & 0.5140 & 0.2245 & 0.1010 & 0.150  & 15    \\\\\n",
       "\t M      & 0.350  & 0.265  & 0.090  & 0.2255 & 0.0995 & 0.0485 & 0.070  &  7    \\\\\n",
       "\t F      & 0.530  & 0.420  & 0.135  & 0.6770 & 0.2565 & 0.1415 & 0.210  &  9    \\\\\n",
       "\t M      & 0.440  & 0.365  & 0.125  & 0.5160 & 0.2155 & 0.1140 & 0.155  & 10    \\\\\n",
       "\t I      & 0.330  & 0.255  & 0.080  & 0.2050 & 0.0895 & 0.0395 & 0.055  &  7    \\\\\n",
       "\t I      & 0.425  & 0.300  & 0.095  & 0.3515 & 0.1410 & 0.0775 & 0.120  &  8    \\\\\n",
       "\\end{tabular}\n"
      ],
      "text/markdown": [
       "\n",
       "| sex | length | diameter | height | weight.whole | weight.shucked | weight.viscera | weight.shell | rings |\n",
       "|---|---|---|---|---|---|---|---|---|\n",
       "| M      | 0.455  | 0.365  | 0.095  | 0.5140 | 0.2245 | 0.1010 | 0.150  | 15     |\n",
       "| M      | 0.350  | 0.265  | 0.090  | 0.2255 | 0.0995 | 0.0485 | 0.070  |  7     |\n",
       "| F      | 0.530  | 0.420  | 0.135  | 0.6770 | 0.2565 | 0.1415 | 0.210  |  9     |\n",
       "| M      | 0.440  | 0.365  | 0.125  | 0.5160 | 0.2155 | 0.1140 | 0.155  | 10     |\n",
       "| I      | 0.330  | 0.255  | 0.080  | 0.2050 | 0.0895 | 0.0395 | 0.055  |  7     |\n",
       "| I      | 0.425  | 0.300  | 0.095  | 0.3515 | 0.1410 | 0.0775 | 0.120  |  8     |\n",
       "\n"
      ],
      "text/plain": [
       "  sex length diameter height weight.whole weight.shucked weight.viscera\n",
       "1 M   0.455  0.365    0.095  0.5140       0.2245         0.1010        \n",
       "2 M   0.350  0.265    0.090  0.2255       0.0995         0.0485        \n",
       "3 F   0.530  0.420    0.135  0.6770       0.2565         0.1415        \n",
       "4 M   0.440  0.365    0.125  0.5160       0.2155         0.1140        \n",
       "5 I   0.330  0.255    0.080  0.2050       0.0895         0.0395        \n",
       "6 I   0.425  0.300    0.095  0.3515       0.1410         0.0775        \n",
       "  weight.shell rings\n",
       "1 0.150        15   \n",
       "2 0.070         7   \n",
       "3 0.210         9   \n",
       "4 0.155        10   \n",
       "5 0.055         7   \n",
       "6 0.120         8   "
      ]
     },
     "metadata": {},
     "output_type": "display_data"
    },
    {
     "data": {
      "text/html": [
       "<ol class=list-inline>\n",
       "\t<li>4177</li>\n",
       "\t<li>9</li>\n",
       "</ol>\n"
      ],
      "text/latex": [
       "\\begin{enumerate*}\n",
       "\\item 4177\n",
       "\\item 9\n",
       "\\end{enumerate*}\n"
      ],
      "text/markdown": [
       "1. 4177\n",
       "2. 9\n",
       "\n",
       "\n"
      ],
      "text/plain": [
       "[1] 4177    9"
      ]
     },
     "metadata": {},
     "output_type": "display_data"
    },
    {
     "data": {
      "text/html": [
       "'data.frame'"
      ],
      "text/latex": [
       "'data.frame'"
      ],
      "text/markdown": [
       "'data.frame'"
      ],
      "text/plain": [
       "[1] \"data.frame\""
      ]
     },
     "metadata": {},
     "output_type": "display_data"
    }
   ],
   "source": [
    "abalone <- read.csv(\"abalone.csv\")\n",
    "head(abalone)\n",
    "dim(abalone)\n",
    "class(abalone)"
   ]
  },
  {
   "cell_type": "markdown",
   "id": "e9f6ab74",
   "metadata": {},
   "source": [
    "### II. Thao tác với dữ liệu:\n",
    "**1. Tách dữ liệu với `subset`**:\n",
    "- Ta thực hiện tách dữ liệu dựa trên biến **`sex`** (M, F, I)."
   ]
  },
  {
   "cell_type": "code",
   "execution_count": 32,
   "id": "9f7c056d",
   "metadata": {},
   "outputs": [],
   "source": [
    "abalone.male <- subset(abalone, sex == \"M\")\n",
    "abalone.female <- subset(abalone, sex == \"F\")\n",
    "abalone.infant <- subset(abalone, sex == \"I\")"
   ]
  },
  {
   "cell_type": "code",
   "execution_count": 33,
   "id": "6106d768",
   "metadata": {},
   "outputs": [
    {
     "data": {
      "text/html": [
       "<table>\n",
       "<thead><tr><th></th><th scope=col>sex</th><th scope=col>length</th><th scope=col>diameter</th><th scope=col>height</th><th scope=col>weight.whole</th><th scope=col>weight.shucked</th><th scope=col>weight.viscera</th><th scope=col>weight.shell</th><th scope=col>rings</th></tr></thead>\n",
       "<tbody>\n",
       "\t<tr><th scope=row>1</th><td>M     </td><td>0.455 </td><td>0.365 </td><td>0.095 </td><td>0.5140</td><td>0.2245</td><td>0.1010</td><td>0.150 </td><td>15    </td></tr>\n",
       "\t<tr><th scope=row>2</th><td>M     </td><td>0.350 </td><td>0.265 </td><td>0.090 </td><td>0.2255</td><td>0.0995</td><td>0.0485</td><td>0.070 </td><td> 7    </td></tr>\n",
       "\t<tr><th scope=row>4</th><td>M     </td><td>0.440 </td><td>0.365 </td><td>0.125 </td><td>0.5160</td><td>0.2155</td><td>0.1140</td><td>0.155 </td><td>10    </td></tr>\n",
       "\t<tr><th scope=row>9</th><td>M     </td><td>0.475 </td><td>0.370 </td><td>0.125 </td><td>0.5095</td><td>0.2165</td><td>0.1125</td><td>0.165 </td><td> 9    </td></tr>\n",
       "\t<tr><th scope=row>12</th><td>M     </td><td>0.430 </td><td>0.350 </td><td>0.110 </td><td>0.4060</td><td>0.1675</td><td>0.0810</td><td>0.135 </td><td>10    </td></tr>\n",
       "\t<tr><th scope=row>13</th><td>M     </td><td>0.490 </td><td>0.380 </td><td>0.135 </td><td>0.5415</td><td>0.2175</td><td>0.0950</td><td>0.190 </td><td>11    </td></tr>\n",
       "</tbody>\n",
       "</table>\n"
      ],
      "text/latex": [
       "\\begin{tabular}{r|lllllllll}\n",
       "  & sex & length & diameter & height & weight.whole & weight.shucked & weight.viscera & weight.shell & rings\\\\\n",
       "\\hline\n",
       "\t1 & M      & 0.455  & 0.365  & 0.095  & 0.5140 & 0.2245 & 0.1010 & 0.150  & 15    \\\\\n",
       "\t2 & M      & 0.350  & 0.265  & 0.090  & 0.2255 & 0.0995 & 0.0485 & 0.070  &  7    \\\\\n",
       "\t4 & M      & 0.440  & 0.365  & 0.125  & 0.5160 & 0.2155 & 0.1140 & 0.155  & 10    \\\\\n",
       "\t9 & M      & 0.475  & 0.370  & 0.125  & 0.5095 & 0.2165 & 0.1125 & 0.165  &  9    \\\\\n",
       "\t12 & M      & 0.430  & 0.350  & 0.110  & 0.4060 & 0.1675 & 0.0810 & 0.135  & 10    \\\\\n",
       "\t13 & M      & 0.490  & 0.380  & 0.135  & 0.5415 & 0.2175 & 0.0950 & 0.190  & 11    \\\\\n",
       "\\end{tabular}\n"
      ],
      "text/markdown": [
       "\n",
       "| <!--/--> | sex | length | diameter | height | weight.whole | weight.shucked | weight.viscera | weight.shell | rings |\n",
       "|---|---|---|---|---|---|---|---|---|---|\n",
       "| 1 | M      | 0.455  | 0.365  | 0.095  | 0.5140 | 0.2245 | 0.1010 | 0.150  | 15     |\n",
       "| 2 | M      | 0.350  | 0.265  | 0.090  | 0.2255 | 0.0995 | 0.0485 | 0.070  |  7     |\n",
       "| 4 | M      | 0.440  | 0.365  | 0.125  | 0.5160 | 0.2155 | 0.1140 | 0.155  | 10     |\n",
       "| 9 | M      | 0.475  | 0.370  | 0.125  | 0.5095 | 0.2165 | 0.1125 | 0.165  |  9     |\n",
       "| 12 | M      | 0.430  | 0.350  | 0.110  | 0.4060 | 0.1675 | 0.0810 | 0.135  | 10     |\n",
       "| 13 | M      | 0.490  | 0.380  | 0.135  | 0.5415 | 0.2175 | 0.0950 | 0.190  | 11     |\n",
       "\n"
      ],
      "text/plain": [
       "   sex length diameter height weight.whole weight.shucked weight.viscera\n",
       "1  M   0.455  0.365    0.095  0.5140       0.2245         0.1010        \n",
       "2  M   0.350  0.265    0.090  0.2255       0.0995         0.0485        \n",
       "4  M   0.440  0.365    0.125  0.5160       0.2155         0.1140        \n",
       "9  M   0.475  0.370    0.125  0.5095       0.2165         0.1125        \n",
       "12 M   0.430  0.350    0.110  0.4060       0.1675         0.0810        \n",
       "13 M   0.490  0.380    0.135  0.5415       0.2175         0.0950        \n",
       "   weight.shell rings\n",
       "1  0.150        15   \n",
       "2  0.070         7   \n",
       "4  0.155        10   \n",
       "9  0.165         9   \n",
       "12 0.135        10   \n",
       "13 0.190        11   "
      ]
     },
     "metadata": {},
     "output_type": "display_data"
    },
    {
     "data": {
      "text/html": [
       "<table>\n",
       "<thead><tr><th></th><th scope=col>sex</th><th scope=col>length</th><th scope=col>diameter</th><th scope=col>height</th><th scope=col>weight.whole</th><th scope=col>weight.shucked</th><th scope=col>weight.viscera</th><th scope=col>weight.shell</th><th scope=col>rings</th></tr></thead>\n",
       "<tbody>\n",
       "\t<tr><th scope=row>3</th><td>F     </td><td>0.530 </td><td>0.420 </td><td>0.135 </td><td>0.6770</td><td>0.2565</td><td>0.1415</td><td>0.210 </td><td> 9    </td></tr>\n",
       "\t<tr><th scope=row>7</th><td>F     </td><td>0.530 </td><td>0.415 </td><td>0.150 </td><td>0.7775</td><td>0.2370</td><td>0.1415</td><td>0.330 </td><td>20    </td></tr>\n",
       "\t<tr><th scope=row>8</th><td>F     </td><td>0.545 </td><td>0.425 </td><td>0.125 </td><td>0.7680</td><td>0.2940</td><td>0.1495</td><td>0.260 </td><td>16    </td></tr>\n",
       "\t<tr><th scope=row>10</th><td>F     </td><td>0.550 </td><td>0.440 </td><td>0.150 </td><td>0.8945</td><td>0.3145</td><td>0.1510</td><td>0.320 </td><td>19    </td></tr>\n",
       "\t<tr><th scope=row>11</th><td>F     </td><td>0.525 </td><td>0.380 </td><td>0.140 </td><td>0.6065</td><td>0.1940</td><td>0.1475</td><td>0.210 </td><td>14    </td></tr>\n",
       "\t<tr><th scope=row>14</th><td>F     </td><td>0.535 </td><td>0.405 </td><td>0.145 </td><td>0.6845</td><td>0.2725</td><td>0.1710</td><td>0.205 </td><td>10    </td></tr>\n",
       "</tbody>\n",
       "</table>\n"
      ],
      "text/latex": [
       "\\begin{tabular}{r|lllllllll}\n",
       "  & sex & length & diameter & height & weight.whole & weight.shucked & weight.viscera & weight.shell & rings\\\\\n",
       "\\hline\n",
       "\t3 & F      & 0.530  & 0.420  & 0.135  & 0.6770 & 0.2565 & 0.1415 & 0.210  &  9    \\\\\n",
       "\t7 & F      & 0.530  & 0.415  & 0.150  & 0.7775 & 0.2370 & 0.1415 & 0.330  & 20    \\\\\n",
       "\t8 & F      & 0.545  & 0.425  & 0.125  & 0.7680 & 0.2940 & 0.1495 & 0.260  & 16    \\\\\n",
       "\t10 & F      & 0.550  & 0.440  & 0.150  & 0.8945 & 0.3145 & 0.1510 & 0.320  & 19    \\\\\n",
       "\t11 & F      & 0.525  & 0.380  & 0.140  & 0.6065 & 0.1940 & 0.1475 & 0.210  & 14    \\\\\n",
       "\t14 & F      & 0.535  & 0.405  & 0.145  & 0.6845 & 0.2725 & 0.1710 & 0.205  & 10    \\\\\n",
       "\\end{tabular}\n"
      ],
      "text/markdown": [
       "\n",
       "| <!--/--> | sex | length | diameter | height | weight.whole | weight.shucked | weight.viscera | weight.shell | rings |\n",
       "|---|---|---|---|---|---|---|---|---|---|\n",
       "| 3 | F      | 0.530  | 0.420  | 0.135  | 0.6770 | 0.2565 | 0.1415 | 0.210  |  9     |\n",
       "| 7 | F      | 0.530  | 0.415  | 0.150  | 0.7775 | 0.2370 | 0.1415 | 0.330  | 20     |\n",
       "| 8 | F      | 0.545  | 0.425  | 0.125  | 0.7680 | 0.2940 | 0.1495 | 0.260  | 16     |\n",
       "| 10 | F      | 0.550  | 0.440  | 0.150  | 0.8945 | 0.3145 | 0.1510 | 0.320  | 19     |\n",
       "| 11 | F      | 0.525  | 0.380  | 0.140  | 0.6065 | 0.1940 | 0.1475 | 0.210  | 14     |\n",
       "| 14 | F      | 0.535  | 0.405  | 0.145  | 0.6845 | 0.2725 | 0.1710 | 0.205  | 10     |\n",
       "\n"
      ],
      "text/plain": [
       "   sex length diameter height weight.whole weight.shucked weight.viscera\n",
       "3  F   0.530  0.420    0.135  0.6770       0.2565         0.1415        \n",
       "7  F   0.530  0.415    0.150  0.7775       0.2370         0.1415        \n",
       "8  F   0.545  0.425    0.125  0.7680       0.2940         0.1495        \n",
       "10 F   0.550  0.440    0.150  0.8945       0.3145         0.1510        \n",
       "11 F   0.525  0.380    0.140  0.6065       0.1940         0.1475        \n",
       "14 F   0.535  0.405    0.145  0.6845       0.2725         0.1710        \n",
       "   weight.shell rings\n",
       "3  0.210         9   \n",
       "7  0.330        20   \n",
       "8  0.260        16   \n",
       "10 0.320        19   \n",
       "11 0.210        14   \n",
       "14 0.205        10   "
      ]
     },
     "metadata": {},
     "output_type": "display_data"
    },
    {
     "data": {
      "text/html": [
       "<table>\n",
       "<thead><tr><th></th><th scope=col>sex</th><th scope=col>length</th><th scope=col>diameter</th><th scope=col>height</th><th scope=col>weight.whole</th><th scope=col>weight.shucked</th><th scope=col>weight.viscera</th><th scope=col>weight.shell</th><th scope=col>rings</th></tr></thead>\n",
       "<tbody>\n",
       "\t<tr><th scope=row>5</th><td>I     </td><td>0.330 </td><td>0.255 </td><td>0.080 </td><td>0.2050</td><td>0.0895</td><td>0.0395</td><td>0.055 </td><td> 7    </td></tr>\n",
       "\t<tr><th scope=row>6</th><td>I     </td><td>0.425 </td><td>0.300 </td><td>0.095 </td><td>0.3515</td><td>0.1410</td><td>0.0775</td><td>0.120 </td><td> 8    </td></tr>\n",
       "\t<tr><th scope=row>17</th><td>I     </td><td>0.355 </td><td>0.280 </td><td>0.085 </td><td>0.2905</td><td>0.0950</td><td>0.0395</td><td>0.115 </td><td> 7    </td></tr>\n",
       "\t<tr><th scope=row>22</th><td>I     </td><td>0.380 </td><td>0.275 </td><td>0.100 </td><td>0.2255</td><td>0.0800</td><td>0.0490</td><td>0.085 </td><td>10    </td></tr>\n",
       "\t<tr><th scope=row>43</th><td>I     </td><td>0.240 </td><td>0.175 </td><td>0.045 </td><td>0.0700</td><td>0.0315</td><td>0.0235</td><td>0.020 </td><td> 5    </td></tr>\n",
       "\t<tr><th scope=row>44</th><td>I     </td><td>0.205 </td><td>0.150 </td><td>0.055 </td><td>0.0420</td><td>0.0255</td><td>0.0150</td><td>0.012 </td><td> 5    </td></tr>\n",
       "</tbody>\n",
       "</table>\n"
      ],
      "text/latex": [
       "\\begin{tabular}{r|lllllllll}\n",
       "  & sex & length & diameter & height & weight.whole & weight.shucked & weight.viscera & weight.shell & rings\\\\\n",
       "\\hline\n",
       "\t5 & I      & 0.330  & 0.255  & 0.080  & 0.2050 & 0.0895 & 0.0395 & 0.055  &  7    \\\\\n",
       "\t6 & I      & 0.425  & 0.300  & 0.095  & 0.3515 & 0.1410 & 0.0775 & 0.120  &  8    \\\\\n",
       "\t17 & I      & 0.355  & 0.280  & 0.085  & 0.2905 & 0.0950 & 0.0395 & 0.115  &  7    \\\\\n",
       "\t22 & I      & 0.380  & 0.275  & 0.100  & 0.2255 & 0.0800 & 0.0490 & 0.085  & 10    \\\\\n",
       "\t43 & I      & 0.240  & 0.175  & 0.045  & 0.0700 & 0.0315 & 0.0235 & 0.020  &  5    \\\\\n",
       "\t44 & I      & 0.205  & 0.150  & 0.055  & 0.0420 & 0.0255 & 0.0150 & 0.012  &  5    \\\\\n",
       "\\end{tabular}\n"
      ],
      "text/markdown": [
       "\n",
       "| <!--/--> | sex | length | diameter | height | weight.whole | weight.shucked | weight.viscera | weight.shell | rings |\n",
       "|---|---|---|---|---|---|---|---|---|---|\n",
       "| 5 | I      | 0.330  | 0.255  | 0.080  | 0.2050 | 0.0895 | 0.0395 | 0.055  |  7     |\n",
       "| 6 | I      | 0.425  | 0.300  | 0.095  | 0.3515 | 0.1410 | 0.0775 | 0.120  |  8     |\n",
       "| 17 | I      | 0.355  | 0.280  | 0.085  | 0.2905 | 0.0950 | 0.0395 | 0.115  |  7     |\n",
       "| 22 | I      | 0.380  | 0.275  | 0.100  | 0.2255 | 0.0800 | 0.0490 | 0.085  | 10     |\n",
       "| 43 | I      | 0.240  | 0.175  | 0.045  | 0.0700 | 0.0315 | 0.0235 | 0.020  |  5     |\n",
       "| 44 | I      | 0.205  | 0.150  | 0.055  | 0.0420 | 0.0255 | 0.0150 | 0.012  |  5     |\n",
       "\n"
      ],
      "text/plain": [
       "   sex length diameter height weight.whole weight.shucked weight.viscera\n",
       "5  I   0.330  0.255    0.080  0.2050       0.0895         0.0395        \n",
       "6  I   0.425  0.300    0.095  0.3515       0.1410         0.0775        \n",
       "17 I   0.355  0.280    0.085  0.2905       0.0950         0.0395        \n",
       "22 I   0.380  0.275    0.100  0.2255       0.0800         0.0490        \n",
       "43 I   0.240  0.175    0.045  0.0700       0.0315         0.0235        \n",
       "44 I   0.205  0.150    0.055  0.0420       0.0255         0.0150        \n",
       "   weight.shell rings\n",
       "5  0.055         7   \n",
       "6  0.120         8   \n",
       "17 0.115         7   \n",
       "22 0.085        10   \n",
       "43 0.020         5   \n",
       "44 0.012         5   "
      ]
     },
     "metadata": {},
     "output_type": "display_data"
    }
   ],
   "source": [
    "head(abalone.male)\n",
    "head(abalone.female)\n",
    "head(abalone.infant)"
   ]
  },
  {
   "cell_type": "markdown",
   "id": "732b9c0e",
   "metadata": {},
   "source": [
    "**2. Chiết số liệu**:\n",
    "* Chiết ra các cột `length`, `height` và `rings` với `15` hàng đầu tiên."
   ]
  },
  {
   "cell_type": "code",
   "execution_count": 5,
   "id": "2b0a2301",
   "metadata": {},
   "outputs": [
    {
     "data": {
      "text/html": [
       "<table>\n",
       "<thead><tr><th scope=col>length</th><th scope=col>height</th><th scope=col>rings</th></tr></thead>\n",
       "<tbody>\n",
       "\t<tr><td>0.455</td><td>0.095</td><td>15   </td></tr>\n",
       "\t<tr><td>0.350</td><td>0.090</td><td> 7   </td></tr>\n",
       "\t<tr><td>0.530</td><td>0.135</td><td> 9   </td></tr>\n",
       "\t<tr><td>0.440</td><td>0.125</td><td>10   </td></tr>\n",
       "\t<tr><td>0.330</td><td>0.080</td><td> 7   </td></tr>\n",
       "\t<tr><td>0.425</td><td>0.095</td><td> 8   </td></tr>\n",
       "\t<tr><td>0.530</td><td>0.150</td><td>20   </td></tr>\n",
       "\t<tr><td>0.545</td><td>0.125</td><td>16   </td></tr>\n",
       "\t<tr><td>0.475</td><td>0.125</td><td> 9   </td></tr>\n",
       "\t<tr><td>0.550</td><td>0.150</td><td>19   </td></tr>\n",
       "\t<tr><td>0.525</td><td>0.140</td><td>14   </td></tr>\n",
       "\t<tr><td>0.430</td><td>0.110</td><td>10   </td></tr>\n",
       "\t<tr><td>0.490</td><td>0.135</td><td>11   </td></tr>\n",
       "\t<tr><td>0.535</td><td>0.145</td><td>10   </td></tr>\n",
       "\t<tr><td>0.470</td><td>0.100</td><td>10   </td></tr>\n",
       "</tbody>\n",
       "</table>\n"
      ],
      "text/latex": [
       "\\begin{tabular}{r|lll}\n",
       " length & height & rings\\\\\n",
       "\\hline\n",
       "\t 0.455 & 0.095 & 15   \\\\\n",
       "\t 0.350 & 0.090 &  7   \\\\\n",
       "\t 0.530 & 0.135 &  9   \\\\\n",
       "\t 0.440 & 0.125 & 10   \\\\\n",
       "\t 0.330 & 0.080 &  7   \\\\\n",
       "\t 0.425 & 0.095 &  8   \\\\\n",
       "\t 0.530 & 0.150 & 20   \\\\\n",
       "\t 0.545 & 0.125 & 16   \\\\\n",
       "\t 0.475 & 0.125 &  9   \\\\\n",
       "\t 0.550 & 0.150 & 19   \\\\\n",
       "\t 0.525 & 0.140 & 14   \\\\\n",
       "\t 0.430 & 0.110 & 10   \\\\\n",
       "\t 0.490 & 0.135 & 11   \\\\\n",
       "\t 0.535 & 0.145 & 10   \\\\\n",
       "\t 0.470 & 0.100 & 10   \\\\\n",
       "\\end{tabular}\n"
      ],
      "text/markdown": [
       "\n",
       "| length | height | rings |\n",
       "|---|---|---|\n",
       "| 0.455 | 0.095 | 15    |\n",
       "| 0.350 | 0.090 |  7    |\n",
       "| 0.530 | 0.135 |  9    |\n",
       "| 0.440 | 0.125 | 10    |\n",
       "| 0.330 | 0.080 |  7    |\n",
       "| 0.425 | 0.095 |  8    |\n",
       "| 0.530 | 0.150 | 20    |\n",
       "| 0.545 | 0.125 | 16    |\n",
       "| 0.475 | 0.125 |  9    |\n",
       "| 0.550 | 0.150 | 19    |\n",
       "| 0.525 | 0.140 | 14    |\n",
       "| 0.430 | 0.110 | 10    |\n",
       "| 0.490 | 0.135 | 11    |\n",
       "| 0.535 | 0.145 | 10    |\n",
       "| 0.470 | 0.100 | 10    |\n",
       "\n"
      ],
      "text/plain": [
       "   length height rings\n",
       "1  0.455  0.095  15   \n",
       "2  0.350  0.090   7   \n",
       "3  0.530  0.135   9   \n",
       "4  0.440  0.125  10   \n",
       "5  0.330  0.080   7   \n",
       "6  0.425  0.095   8   \n",
       "7  0.530  0.150  20   \n",
       "8  0.545  0.125  16   \n",
       "9  0.475  0.125   9   \n",
       "10 0.550  0.150  19   \n",
       "11 0.525  0.140  14   \n",
       "12 0.430  0.110  10   \n",
       "13 0.490  0.135  11   \n",
       "14 0.535  0.145  10   \n",
       "15 0.470  0.100  10   "
      ]
     },
     "metadata": {},
     "output_type": "display_data"
    }
   ],
   "source": [
    "data.fi <- abalone[1:15, c(\"length\", \"height\", \"rings\")]\n",
    "data.fi"
   ]
  },
  {
   "cell_type": "markdown",
   "id": "dbd8d43c",
   "metadata": {},
   "source": [
    "* Xuất dữ liệu vừa chiết được ra file csv."
   ]
  },
  {
   "cell_type": "code",
   "execution_count": 6,
   "id": "1da22e62",
   "metadata": {},
   "outputs": [],
   "source": [
    "write.csv(data.fi, \"abalone_data_fi.csv\")"
   ]
  },
  {
   "cell_type": "markdown",
   "id": "a2d47be3",
   "metadata": {},
   "source": [
    "**3. Chia nhóm dữ liệu với `cut`**:\n",
    "* Thực hiện chia cột `rings` thành 5 nhóm."
   ]
  },
  {
   "cell_type": "code",
   "execution_count": 7,
   "id": "99be0be7",
   "metadata": {},
   "outputs": [
    {
     "data": {
      "text/html": [
       "<ol class=list-inline>\n",
       "\t<li>1</li>\n",
       "\t<li>29</li>\n",
       "</ol>\n"
      ],
      "text/latex": [
       "\\begin{enumerate*}\n",
       "\\item 1\n",
       "\\item 29\n",
       "\\end{enumerate*}\n"
      ],
      "text/markdown": [
       "1. 1\n",
       "2. 29\n",
       "\n",
       "\n"
      ],
      "text/plain": [
       "[1]  1 29"
      ]
     },
     "metadata": {},
     "output_type": "display_data"
    },
    {
     "data": {
      "text/html": [
       "<ol class=list-inline>\n",
       "\t<li>(12.2,17.8]</li>\n",
       "\t<li>(6.6,12.2]</li>\n",
       "\t<li>(6.6,12.2]</li>\n",
       "\t<li>(6.6,12.2]</li>\n",
       "\t<li>(6.6,12.2]</li>\n",
       "\t<li>(6.6,12.2]</li>\n",
       "</ol>\n",
       "\n",
       "<details>\n",
       "\t<summary style=display:list-item;cursor:pointer>\n",
       "\t\t<strong>Levels</strong>:\n",
       "\t</summary>\n",
       "\t<ol class=list-inline>\n",
       "\t\t<li>'(0.972,6.6]'</li>\n",
       "\t\t<li>'(6.6,12.2]'</li>\n",
       "\t\t<li>'(12.2,17.8]'</li>\n",
       "\t\t<li>'(17.8,23.4]'</li>\n",
       "\t\t<li>'(23.4,29]'</li>\n",
       "\t</ol>\n",
       "</details>"
      ],
      "text/latex": [
       "\\begin{enumerate*}\n",
       "\\item (12.2,17.8{]}\n",
       "\\item (6.6,12.2{]}\n",
       "\\item (6.6,12.2{]}\n",
       "\\item (6.6,12.2{]}\n",
       "\\item (6.6,12.2{]}\n",
       "\\item (6.6,12.2{]}\n",
       "\\end{enumerate*}\n",
       "\n",
       "\\emph{Levels}: \\begin{enumerate*}\n",
       "\\item '(0.972,6.6{]}'\n",
       "\\item '(6.6,12.2{]}'\n",
       "\\item '(12.2,17.8{]}'\n",
       "\\item '(17.8,23.4{]}'\n",
       "\\item '(23.4,29{]}'\n",
       "\\end{enumerate*}\n"
      ],
      "text/markdown": [
       "1. (12.2,17.8]\n",
       "2. (6.6,12.2]\n",
       "3. (6.6,12.2]\n",
       "4. (6.6,12.2]\n",
       "5. (6.6,12.2]\n",
       "6. (6.6,12.2]\n",
       "\n",
       "\n",
       "\n",
       "**Levels**: 1. '(0.972,6.6]'\n",
       "2. '(6.6,12.2]'\n",
       "3. '(12.2,17.8]'\n",
       "4. '(17.8,23.4]'\n",
       "5. '(23.4,29]'\n",
       "\n",
       "\n"
      ],
      "text/plain": [
       "[1] (12.2,17.8] (6.6,12.2]  (6.6,12.2]  (6.6,12.2]  (6.6,12.2]  (6.6,12.2] \n",
       "Levels: (0.972,6.6] (6.6,12.2] (12.2,17.8] (17.8,23.4] (23.4,29]"
      ]
     },
     "metadata": {},
     "output_type": "display_data"
    }
   ],
   "source": [
    "range(abalone$rings)\n",
    "abalone.rings <- abalone$rings\n",
    "rings.cut <- cut(abalone.rings, 5)\n",
    "head(rings.cut)"
   ]
  },
  {
   "cell_type": "code",
   "execution_count": 8,
   "id": "2483d9b0",
   "metadata": {},
   "outputs": [
    {
     "data": {
      "text/plain": [
       "rings.cut\n",
       "(0.972,6.6]  (6.6,12.2] (12.2,17.8] (17.8,23.4]   (23.4,29] \n",
       "        448        3036         557         129           7 "
      ]
     },
     "metadata": {},
     "output_type": "display_data"
    }
   ],
   "source": [
    "table(rings.cut)"
   ]
  },
  {
   "cell_type": "markdown",
   "id": "733f8d1d",
   "metadata": {},
   "source": [
    "### III. Bảng tần số, bảng chia khoảng:\n",
    "**1. Bảng tần số:**\n",
    "* Ta thực hiện trên cột **`rings`**"
   ]
  },
  {
   "cell_type": "code",
   "execution_count": 9,
   "id": "7ed6053c",
   "metadata": {},
   "outputs": [
    {
     "data": {
      "text/html": [
       "'So luong mau: 4177'"
      ],
      "text/latex": [
       "'So luong mau: 4177'"
      ],
      "text/markdown": [
       "'So luong mau: 4177'"
      ],
      "text/plain": [
       "[1] \"So luong mau: 4177\""
      ]
     },
     "metadata": {},
     "output_type": "display_data"
    }
   ],
   "source": [
    "# So luong mau\n",
    "num.obs <- nrow(abalone)\n",
    "sprintf(\"So luong mau: %d\", num.obs)"
   ]
  },
  {
   "cell_type": "code",
   "execution_count": 10,
   "id": "005b26ce",
   "metadata": {},
   "outputs": [
    {
     "data": {
      "text/html": [
       "<ol class=list-inline>\n",
       "\t<li>1</li>\n",
       "\t<li>29</li>\n",
       "</ol>\n"
      ],
      "text/latex": [
       "\\begin{enumerate*}\n",
       "\\item 1\n",
       "\\item 29\n",
       "\\end{enumerate*}\n"
      ],
      "text/markdown": [
       "1. 1\n",
       "2. 29\n",
       "\n",
       "\n"
      ],
      "text/plain": [
       "[1]  1 29"
      ]
     },
     "metadata": {},
     "output_type": "display_data"
    }
   ],
   "source": [
    "# Lay ra cot rings\n",
    "abalone.rings <- abalone$rings\n",
    "range(abalone.rings)"
   ]
  },
  {
   "cell_type": "code",
   "execution_count": 11,
   "id": "93d33c82",
   "metadata": {},
   "outputs": [
    {
     "data": {
      "text/html": [
       "<table>\n",
       "<thead><tr><th></th><th scope=col>Frequency</th><th scope=col>Relative Frequency</th></tr></thead>\n",
       "<tbody>\n",
       "\t<tr><th scope=row>1</th><td>  1         </td><td>0.0002394063</td></tr>\n",
       "\t<tr><th scope=row>2</th><td>  1         </td><td>0.0002394063</td></tr>\n",
       "\t<tr><th scope=row>3</th><td> 15         </td><td>0.0035910941</td></tr>\n",
       "\t<tr><th scope=row>4</th><td> 57         </td><td>0.0136461575</td></tr>\n",
       "\t<tr><th scope=row>5</th><td>115         </td><td>0.0275317213</td></tr>\n",
       "\t<tr><th scope=row>6</th><td>259         </td><td>0.0620062246</td></tr>\n",
       "\t<tr><th scope=row>7</th><td>391         </td><td>0.0936078525</td></tr>\n",
       "\t<tr><th scope=row>8</th><td>568         </td><td>0.1359827627</td></tr>\n",
       "\t<tr><th scope=row>9</th><td>689         </td><td>0.1649509217</td></tr>\n",
       "\t<tr><th scope=row>10</th><td>634         </td><td>0.1517835767</td></tr>\n",
       "\t<tr><th scope=row>11</th><td>487         </td><td>0.1165908547</td></tr>\n",
       "\t<tr><th scope=row>12</th><td>267         </td><td>0.0639214747</td></tr>\n",
       "\t<tr><th scope=row>13</th><td>203         </td><td>0.0485994733</td></tr>\n",
       "\t<tr><th scope=row>14</th><td>126         </td><td>0.0301651903</td></tr>\n",
       "\t<tr><th scope=row>15</th><td>103         </td><td>0.0246588461</td></tr>\n",
       "\t<tr><th scope=row>16</th><td> 67         </td><td>0.0160402203</td></tr>\n",
       "\t<tr><th scope=row>17</th><td> 58         </td><td>0.0138855638</td></tr>\n",
       "\t<tr><th scope=row>18</th><td> 42         </td><td>0.0100550634</td></tr>\n",
       "\t<tr><th scope=row>19</th><td> 32         </td><td>0.0076610007</td></tr>\n",
       "\t<tr><th scope=row>20</th><td> 26         </td><td>0.0062245631</td></tr>\n",
       "\t<tr><th scope=row>21</th><td> 14         </td><td>0.0033516878</td></tr>\n",
       "\t<tr><th scope=row>22</th><td>  6         </td><td>0.0014364376</td></tr>\n",
       "\t<tr><th scope=row>23</th><td>  9         </td><td>0.0021546565</td></tr>\n",
       "\t<tr><th scope=row>24</th><td>  2         </td><td>0.0004788125</td></tr>\n",
       "\t<tr><th scope=row>25</th><td>  1         </td><td>0.0002394063</td></tr>\n",
       "\t<tr><th scope=row>26</th><td>  1         </td><td>0.0002394063</td></tr>\n",
       "\t<tr><th scope=row>27</th><td>  2         </td><td>0.0004788125</td></tr>\n",
       "\t<tr><th scope=row>29</th><td>  1         </td><td>0.0002394063</td></tr>\n",
       "</tbody>\n",
       "</table>\n"
      ],
      "text/latex": [
       "\\begin{tabular}{r|ll}\n",
       "  & Frequency & Relative Frequency\\\\\n",
       "\\hline\n",
       "\t1 &   1          & 0.0002394063\\\\\n",
       "\t2 &   1          & 0.0002394063\\\\\n",
       "\t3 &  15          & 0.0035910941\\\\\n",
       "\t4 &  57          & 0.0136461575\\\\\n",
       "\t5 & 115          & 0.0275317213\\\\\n",
       "\t6 & 259          & 0.0620062246\\\\\n",
       "\t7 & 391          & 0.0936078525\\\\\n",
       "\t8 & 568          & 0.1359827627\\\\\n",
       "\t9 & 689          & 0.1649509217\\\\\n",
       "\t10 & 634          & 0.1517835767\\\\\n",
       "\t11 & 487          & 0.1165908547\\\\\n",
       "\t12 & 267          & 0.0639214747\\\\\n",
       "\t13 & 203          & 0.0485994733\\\\\n",
       "\t14 & 126          & 0.0301651903\\\\\n",
       "\t15 & 103          & 0.0246588461\\\\\n",
       "\t16 &  67          & 0.0160402203\\\\\n",
       "\t17 &  58          & 0.0138855638\\\\\n",
       "\t18 &  42          & 0.0100550634\\\\\n",
       "\t19 &  32          & 0.0076610007\\\\\n",
       "\t20 &  26          & 0.0062245631\\\\\n",
       "\t21 &  14          & 0.0033516878\\\\\n",
       "\t22 &   6          & 0.0014364376\\\\\n",
       "\t23 &   9          & 0.0021546565\\\\\n",
       "\t24 &   2          & 0.0004788125\\\\\n",
       "\t25 &   1          & 0.0002394063\\\\\n",
       "\t26 &   1          & 0.0002394063\\\\\n",
       "\t27 &   2          & 0.0004788125\\\\\n",
       "\t29 &   1          & 0.0002394063\\\\\n",
       "\\end{tabular}\n"
      ],
      "text/markdown": [
       "\n",
       "| <!--/--> | Frequency | Relative Frequency |\n",
       "|---|---|---|\n",
       "| 1 |   1          | 0.0002394063 |\n",
       "| 2 |   1          | 0.0002394063 |\n",
       "| 3 |  15          | 0.0035910941 |\n",
       "| 4 |  57          | 0.0136461575 |\n",
       "| 5 | 115          | 0.0275317213 |\n",
       "| 6 | 259          | 0.0620062246 |\n",
       "| 7 | 391          | 0.0936078525 |\n",
       "| 8 | 568          | 0.1359827627 |\n",
       "| 9 | 689          | 0.1649509217 |\n",
       "| 10 | 634          | 0.1517835767 |\n",
       "| 11 | 487          | 0.1165908547 |\n",
       "| 12 | 267          | 0.0639214747 |\n",
       "| 13 | 203          | 0.0485994733 |\n",
       "| 14 | 126          | 0.0301651903 |\n",
       "| 15 | 103          | 0.0246588461 |\n",
       "| 16 |  67          | 0.0160402203 |\n",
       "| 17 |  58          | 0.0138855638 |\n",
       "| 18 |  42          | 0.0100550634 |\n",
       "| 19 |  32          | 0.0076610007 |\n",
       "| 20 |  26          | 0.0062245631 |\n",
       "| 21 |  14          | 0.0033516878 |\n",
       "| 22 |   6          | 0.0014364376 |\n",
       "| 23 |   9          | 0.0021546565 |\n",
       "| 24 |   2          | 0.0004788125 |\n",
       "| 25 |   1          | 0.0002394063 |\n",
       "| 26 |   1          | 0.0002394063 |\n",
       "| 27 |   2          | 0.0004788125 |\n",
       "| 29 |   1          | 0.0002394063 |\n",
       "\n"
      ],
      "text/plain": [
       "   Frequency Relative Frequency\n",
       "1    1       0.0002394063      \n",
       "2    1       0.0002394063      \n",
       "3   15       0.0035910941      \n",
       "4   57       0.0136461575      \n",
       "5  115       0.0275317213      \n",
       "6  259       0.0620062246      \n",
       "7  391       0.0936078525      \n",
       "8  568       0.1359827627      \n",
       "9  689       0.1649509217      \n",
       "10 634       0.1517835767      \n",
       "11 487       0.1165908547      \n",
       "12 267       0.0639214747      \n",
       "13 203       0.0485994733      \n",
       "14 126       0.0301651903      \n",
       "15 103       0.0246588461      \n",
       "16  67       0.0160402203      \n",
       "17  58       0.0138855638      \n",
       "18  42       0.0100550634      \n",
       "19  32       0.0076610007      \n",
       "20  26       0.0062245631      \n",
       "21  14       0.0033516878      \n",
       "22   6       0.0014364376      \n",
       "23   9       0.0021546565      \n",
       "24   2       0.0004788125      \n",
       "25   1       0.0002394063      \n",
       "26   1       0.0002394063      \n",
       "27   2       0.0004788125      \n",
       "29   1       0.0002394063      "
      ]
     },
     "metadata": {},
     "output_type": "display_data"
    }
   ],
   "source": [
    "abalone.rings.freq <- table(abalone.rings)\n",
    "table.abalone.rings <- cbind(abalone.rings.freq, abalone.rings.freq/num.obs)\n",
    "colnames(table.abalone.rings) <- c(\"Frequency\", \"Relative Frequency\")\n",
    "table.abalone.rings"
   ]
  },
  {
   "cell_type": "markdown",
   "id": "cab6363a",
   "metadata": {},
   "source": [
    "* Thực hiện trên cột **`sex`**"
   ]
  },
  {
   "cell_type": "code",
   "execution_count": 12,
   "id": "d12f939d",
   "metadata": {},
   "outputs": [
    {
     "data": {
      "text/html": [
       "<table>\n",
       "<thead><tr><th></th><th scope=col>Frequency</th><th scope=col>Relative Frequency</th></tr></thead>\n",
       "<tbody>\n",
       "\t<tr><th scope=row>F</th><td>1307     </td><td>0.3129040</td></tr>\n",
       "\t<tr><th scope=row>I</th><td>1342     </td><td>0.3212832</td></tr>\n",
       "\t<tr><th scope=row>M</th><td>1528     </td><td>0.3658128</td></tr>\n",
       "</tbody>\n",
       "</table>\n"
      ],
      "text/latex": [
       "\\begin{tabular}{r|ll}\n",
       "  & Frequency & Relative Frequency\\\\\n",
       "\\hline\n",
       "\tF & 1307      & 0.3129040\\\\\n",
       "\tI & 1342      & 0.3212832\\\\\n",
       "\tM & 1528      & 0.3658128\\\\\n",
       "\\end{tabular}\n"
      ],
      "text/markdown": [
       "\n",
       "| <!--/--> | Frequency | Relative Frequency |\n",
       "|---|---|---|\n",
       "| F | 1307      | 0.3129040 |\n",
       "| I | 1342      | 0.3212832 |\n",
       "| M | 1528      | 0.3658128 |\n",
       "\n"
      ],
      "text/plain": [
       "  Frequency Relative Frequency\n",
       "F 1307      0.3129040         \n",
       "I 1342      0.3212832         \n",
       "M 1528      0.3658128         "
      ]
     },
     "metadata": {},
     "output_type": "display_data"
    }
   ],
   "source": [
    "abalone.sex.freq <- table(abalone$sex)\n",
    "table.abalone.sex <- cbind(abalone.sex.freq, abalone.sex.freq/num.obs)\n",
    "colnames(table.abalone.sex) <- c(\"Frequency\", \"Relative Frequency\")\n",
    "table.abalone.sex"
   ]
  },
  {
   "cell_type": "markdown",
   "id": "1cf311b4",
   "metadata": {},
   "source": [
    "**2. Bảng dạng khoảng:**"
   ]
  },
  {
   "cell_type": "markdown",
   "id": "4feb4c55",
   "metadata": {},
   "source": [
    "* Thực hiện chia khoảng với cột **`length`**."
   ]
  },
  {
   "cell_type": "markdown",
   "id": "38777365",
   "metadata": {},
   "source": [
    "    - Khoảng của biến length."
   ]
  },
  {
   "cell_type": "code",
   "execution_count": 13,
   "id": "0d6304db",
   "metadata": {},
   "outputs": [
    {
     "data": {
      "text/html": [
       "<ol class=list-inline>\n",
       "\t<li>0.075</li>\n",
       "\t<li>0.815</li>\n",
       "</ol>\n"
      ],
      "text/latex": [
       "\\begin{enumerate*}\n",
       "\\item 0.075\n",
       "\\item 0.815\n",
       "\\end{enumerate*}\n"
      ],
      "text/markdown": [
       "1. 0.075\n",
       "2. 0.815\n",
       "\n",
       "\n"
      ],
      "text/plain": [
       "[1] 0.075 0.815"
      ]
     },
     "metadata": {},
     "output_type": "display_data"
    }
   ],
   "source": [
    "range(abalone$length)"
   ]
  },
  {
   "cell_type": "markdown",
   "id": "d56744e1",
   "metadata": {},
   "source": [
    "    - Chia thành các khoảng có độ dài 0.05. Bắt đầu từ 0.05 đến 0.85."
   ]
  },
  {
   "cell_type": "code",
   "execution_count": 14,
   "id": "f6eae108",
   "metadata": {
    "scrolled": true
   },
   "outputs": [
    {
     "data": {
      "text/html": [
       "<ol class=list-inline>\n",
       "\t<li>0.05</li>\n",
       "\t<li>0.1</li>\n",
       "\t<li>0.15</li>\n",
       "\t<li>0.2</li>\n",
       "\t<li>0.25</li>\n",
       "\t<li>0.3</li>\n",
       "\t<li>0.35</li>\n",
       "\t<li>0.4</li>\n",
       "\t<li>0.45</li>\n",
       "\t<li>0.5</li>\n",
       "\t<li>0.55</li>\n",
       "\t<li>0.6</li>\n",
       "\t<li>0.65</li>\n",
       "\t<li>0.7</li>\n",
       "\t<li>0.75</li>\n",
       "\t<li>0.8</li>\n",
       "\t<li>0.85</li>\n",
       "</ol>\n"
      ],
      "text/latex": [
       "\\begin{enumerate*}\n",
       "\\item 0.05\n",
       "\\item 0.1\n",
       "\\item 0.15\n",
       "\\item 0.2\n",
       "\\item 0.25\n",
       "\\item 0.3\n",
       "\\item 0.35\n",
       "\\item 0.4\n",
       "\\item 0.45\n",
       "\\item 0.5\n",
       "\\item 0.55\n",
       "\\item 0.6\n",
       "\\item 0.65\n",
       "\\item 0.7\n",
       "\\item 0.75\n",
       "\\item 0.8\n",
       "\\item 0.85\n",
       "\\end{enumerate*}\n"
      ],
      "text/markdown": [
       "1. 0.05\n",
       "2. 0.1\n",
       "3. 0.15\n",
       "4. 0.2\n",
       "5. 0.25\n",
       "6. 0.3\n",
       "7. 0.35\n",
       "8. 0.4\n",
       "9. 0.45\n",
       "10. 0.5\n",
       "11. 0.55\n",
       "12. 0.6\n",
       "13. 0.65\n",
       "14. 0.7\n",
       "15. 0.75\n",
       "16. 0.8\n",
       "17. 0.85\n",
       "\n",
       "\n"
      ],
      "text/plain": [
       " [1] 0.05 0.10 0.15 0.20 0.25 0.30 0.35 0.40 0.45 0.50 0.55 0.60 0.65 0.70 0.75\n",
       "[16] 0.80 0.85"
      ]
     },
     "metadata": {},
     "output_type": "display_data"
    }
   ],
   "source": [
    "breaks <- seq(0.05, 0.85, by=0.05)\n",
    "breaks"
   ]
  },
  {
   "cell_type": "markdown",
   "id": "fd239be7",
   "metadata": {},
   "source": [
    "    - Thực hiện chia khoảng bằng hàm cut."
   ]
  },
  {
   "cell_type": "code",
   "execution_count": 15,
   "id": "e5c2ec47",
   "metadata": {},
   "outputs": [
    {
     "data": {
      "text/html": [
       "<ol class=list-inline>\n",
       "\t<li>(0.45,0.5]</li>\n",
       "\t<li>(0.3,0.35]</li>\n",
       "\t<li>(0.5,0.55]</li>\n",
       "\t<li>(0.4,0.45]</li>\n",
       "\t<li>(0.3,0.35]</li>\n",
       "\t<li>(0.4,0.45]</li>\n",
       "</ol>\n",
       "\n",
       "<details>\n",
       "\t<summary style=display:list-item;cursor:pointer>\n",
       "\t\t<strong>Levels</strong>:\n",
       "\t</summary>\n",
       "\t<ol class=list-inline>\n",
       "\t\t<li>'(0.05,0.1]'</li>\n",
       "\t\t<li>'(0.1,0.15]'</li>\n",
       "\t\t<li>'(0.15,0.2]'</li>\n",
       "\t\t<li>'(0.2,0.25]'</li>\n",
       "\t\t<li>'(0.25,0.3]'</li>\n",
       "\t\t<li>'(0.3,0.35]'</li>\n",
       "\t\t<li>'(0.35,0.4]'</li>\n",
       "\t\t<li>'(0.4,0.45]'</li>\n",
       "\t\t<li>'(0.45,0.5]'</li>\n",
       "\t\t<li>'(0.5,0.55]'</li>\n",
       "\t\t<li>'(0.55,0.6]'</li>\n",
       "\t\t<li>'(0.6,0.65]'</li>\n",
       "\t\t<li>'(0.65,0.7]'</li>\n",
       "\t\t<li>'(0.7,0.75]'</li>\n",
       "\t\t<li>'(0.75,0.8]'</li>\n",
       "\t\t<li>'(0.8,0.85]'</li>\n",
       "\t</ol>\n",
       "</details>"
      ],
      "text/latex": [
       "\\begin{enumerate*}\n",
       "\\item (0.45,0.5{]}\n",
       "\\item (0.3,0.35{]}\n",
       "\\item (0.5,0.55{]}\n",
       "\\item (0.4,0.45{]}\n",
       "\\item (0.3,0.35{]}\n",
       "\\item (0.4,0.45{]}\n",
       "\\end{enumerate*}\n",
       "\n",
       "\\emph{Levels}: \\begin{enumerate*}\n",
       "\\item '(0.05,0.1{]}'\n",
       "\\item '(0.1,0.15{]}'\n",
       "\\item '(0.15,0.2{]}'\n",
       "\\item '(0.2,0.25{]}'\n",
       "\\item '(0.25,0.3{]}'\n",
       "\\item '(0.3,0.35{]}'\n",
       "\\item '(0.35,0.4{]}'\n",
       "\\item '(0.4,0.45{]}'\n",
       "\\item '(0.45,0.5{]}'\n",
       "\\item '(0.5,0.55{]}'\n",
       "\\item '(0.55,0.6{]}'\n",
       "\\item '(0.6,0.65{]}'\n",
       "\\item '(0.65,0.7{]}'\n",
       "\\item '(0.7,0.75{]}'\n",
       "\\item '(0.75,0.8{]}'\n",
       "\\item '(0.8,0.85{]}'\n",
       "\\end{enumerate*}\n"
      ],
      "text/markdown": [
       "1. (0.45,0.5]\n",
       "2. (0.3,0.35]\n",
       "3. (0.5,0.55]\n",
       "4. (0.4,0.45]\n",
       "5. (0.3,0.35]\n",
       "6. (0.4,0.45]\n",
       "\n",
       "\n",
       "\n",
       "**Levels**: 1. '(0.05,0.1]'\n",
       "2. '(0.1,0.15]'\n",
       "3. '(0.15,0.2]'\n",
       "4. '(0.2,0.25]'\n",
       "5. '(0.25,0.3]'\n",
       "6. '(0.3,0.35]'\n",
       "7. '(0.35,0.4]'\n",
       "8. '(0.4,0.45]'\n",
       "9. '(0.45,0.5]'\n",
       "10. '(0.5,0.55]'\n",
       "11. '(0.55,0.6]'\n",
       "12. '(0.6,0.65]'\n",
       "13. '(0.65,0.7]'\n",
       "14. '(0.7,0.75]'\n",
       "15. '(0.75,0.8]'\n",
       "16. '(0.8,0.85]'\n",
       "\n",
       "\n"
      ],
      "text/plain": [
       "[1] (0.45,0.5] (0.3,0.35] (0.5,0.55] (0.4,0.45] (0.3,0.35] (0.4,0.45]\n",
       "16 Levels: (0.05,0.1] (0.1,0.15] (0.15,0.2] (0.2,0.25] ... (0.8,0.85]"
      ]
     },
     "metadata": {},
     "output_type": "display_data"
    }
   ],
   "source": [
    "abalone.length.cut <- cut(abalone$length, breaks, right = TRUE)\n",
    "head(abalone.length.cut)"
   ]
  },
  {
   "cell_type": "markdown",
   "id": "527656fb",
   "metadata": {},
   "source": [
    "    - Lập bảng tần số, tần suất và tần suất tích lũy."
   ]
  },
  {
   "cell_type": "code",
   "execution_count": 16,
   "id": "2dbe0d42",
   "metadata": {},
   "outputs": [
    {
     "data": {
      "text/html": [
       "<table>\n",
       "<thead><tr><th></th><th scope=col>Frequency</th><th scope=col>Relative Frequency</th><th scope=col>Cumulative Relavative Frequency</th></tr></thead>\n",
       "<tbody>\n",
       "\t<tr><th scope=row>(0.05,0.1]</th><td>  1         </td><td>0.0002394063</td><td>0.0002394063</td></tr>\n",
       "\t<tr><th scope=row>(0.1,0.15]</th><td>  7         </td><td>0.0016758439</td><td>0.0019152502</td></tr>\n",
       "\t<tr><th scope=row>(0.15,0.2]</th><td> 41         </td><td>0.0098156572</td><td>0.0117309073</td></tr>\n",
       "\t<tr><th scope=row>(0.2,0.25]</th><td> 57         </td><td>0.0136461575</td><td>0.0253770649</td></tr>\n",
       "\t<tr><th scope=row>(0.25,0.3]</th><td>122         </td><td>0.0292075652</td><td>0.0545846301</td></tr>\n",
       "\t<tr><th scope=row>(0.3,0.35]</th><td>180         </td><td>0.0430931290</td><td>0.0976777592</td></tr>\n",
       "\t<tr><th scope=row>(0.35,0.4]</th><td>287         </td><td>0.0687096002</td><td>0.1663873593</td></tr>\n",
       "\t<tr><th scope=row>(0.4,0.45]</th><td>372         </td><td>0.0890591333</td><td>0.2554464927</td></tr>\n",
       "\t<tr><th scope=row>(0.45,0.5]</th><td>524         </td><td>0.1254488868</td><td>0.3808953795</td></tr>\n",
       "\t<tr><th scope=row>(0.5,0.55]</th><td>637         </td><td>0.1525017955</td><td>0.5333971750</td></tr>\n",
       "\t<tr><th scope=row>(0.55,0.6]</th><td>733         </td><td>0.1754847977</td><td>0.7088819727</td></tr>\n",
       "\t<tr><th scope=row>(0.6,0.65]</th><td>728         </td><td>0.1742877663</td><td>0.8831697390</td></tr>\n",
       "\t<tr><th scope=row>(0.65,0.7]</th><td>336         </td><td>0.0804405075</td><td>0.9636102466</td></tr>\n",
       "\t<tr><th scope=row>(0.7,0.75]</th><td>136         </td><td>0.0325592531</td><td>0.9961694996</td></tr>\n",
       "\t<tr><th scope=row>(0.75,0.8]</th><td> 15         </td><td>0.0035910941</td><td>0.9997605937</td></tr>\n",
       "\t<tr><th scope=row>(0.8,0.85]</th><td>  1         </td><td>0.0002394063</td><td>1.0000000000</td></tr>\n",
       "</tbody>\n",
       "</table>\n"
      ],
      "text/latex": [
       "\\begin{tabular}{r|lll}\n",
       "  & Frequency & Relative Frequency & Cumulative Relavative Frequency\\\\\n",
       "\\hline\n",
       "\t(0.05,0.1{]} &   1          & 0.0002394063 & 0.0002394063\\\\\n",
       "\t(0.1,0.15{]} &   7          & 0.0016758439 & 0.0019152502\\\\\n",
       "\t(0.15,0.2{]} &  41          & 0.0098156572 & 0.0117309073\\\\\n",
       "\t(0.2,0.25{]} &  57          & 0.0136461575 & 0.0253770649\\\\\n",
       "\t(0.25,0.3{]} & 122          & 0.0292075652 & 0.0545846301\\\\\n",
       "\t(0.3,0.35{]} & 180          & 0.0430931290 & 0.0976777592\\\\\n",
       "\t(0.35,0.4{]} & 287          & 0.0687096002 & 0.1663873593\\\\\n",
       "\t(0.4,0.45{]} & 372          & 0.0890591333 & 0.2554464927\\\\\n",
       "\t(0.45,0.5{]} & 524          & 0.1254488868 & 0.3808953795\\\\\n",
       "\t(0.5,0.55{]} & 637          & 0.1525017955 & 0.5333971750\\\\\n",
       "\t(0.55,0.6{]} & 733          & 0.1754847977 & 0.7088819727\\\\\n",
       "\t(0.6,0.65{]} & 728          & 0.1742877663 & 0.8831697390\\\\\n",
       "\t(0.65,0.7{]} & 336          & 0.0804405075 & 0.9636102466\\\\\n",
       "\t(0.7,0.75{]} & 136          & 0.0325592531 & 0.9961694996\\\\\n",
       "\t(0.75,0.8{]} &  15          & 0.0035910941 & 0.9997605937\\\\\n",
       "\t(0.8,0.85{]} &   1          & 0.0002394063 & 1.0000000000\\\\\n",
       "\\end{tabular}\n"
      ],
      "text/markdown": [
       "\n",
       "| <!--/--> | Frequency | Relative Frequency | Cumulative Relavative Frequency |\n",
       "|---|---|---|---|\n",
       "| (0.05,0.1] |   1          | 0.0002394063 | 0.0002394063 |\n",
       "| (0.1,0.15] |   7          | 0.0016758439 | 0.0019152502 |\n",
       "| (0.15,0.2] |  41          | 0.0098156572 | 0.0117309073 |\n",
       "| (0.2,0.25] |  57          | 0.0136461575 | 0.0253770649 |\n",
       "| (0.25,0.3] | 122          | 0.0292075652 | 0.0545846301 |\n",
       "| (0.3,0.35] | 180          | 0.0430931290 | 0.0976777592 |\n",
       "| (0.35,0.4] | 287          | 0.0687096002 | 0.1663873593 |\n",
       "| (0.4,0.45] | 372          | 0.0890591333 | 0.2554464927 |\n",
       "| (0.45,0.5] | 524          | 0.1254488868 | 0.3808953795 |\n",
       "| (0.5,0.55] | 637          | 0.1525017955 | 0.5333971750 |\n",
       "| (0.55,0.6] | 733          | 0.1754847977 | 0.7088819727 |\n",
       "| (0.6,0.65] | 728          | 0.1742877663 | 0.8831697390 |\n",
       "| (0.65,0.7] | 336          | 0.0804405075 | 0.9636102466 |\n",
       "| (0.7,0.75] | 136          | 0.0325592531 | 0.9961694996 |\n",
       "| (0.75,0.8] |  15          | 0.0035910941 | 0.9997605937 |\n",
       "| (0.8,0.85] |   1          | 0.0002394063 | 1.0000000000 |\n",
       "\n"
      ],
      "text/plain": [
       "           Frequency Relative Frequency Cumulative Relavative Frequency\n",
       "(0.05,0.1]   1       0.0002394063       0.0002394063                   \n",
       "(0.1,0.15]   7       0.0016758439       0.0019152502                   \n",
       "(0.15,0.2]  41       0.0098156572       0.0117309073                   \n",
       "(0.2,0.25]  57       0.0136461575       0.0253770649                   \n",
       "(0.25,0.3] 122       0.0292075652       0.0545846301                   \n",
       "(0.3,0.35] 180       0.0430931290       0.0976777592                   \n",
       "(0.35,0.4] 287       0.0687096002       0.1663873593                   \n",
       "(0.4,0.45] 372       0.0890591333       0.2554464927                   \n",
       "(0.45,0.5] 524       0.1254488868       0.3808953795                   \n",
       "(0.5,0.55] 637       0.1525017955       0.5333971750                   \n",
       "(0.55,0.6] 733       0.1754847977       0.7088819727                   \n",
       "(0.6,0.65] 728       0.1742877663       0.8831697390                   \n",
       "(0.65,0.7] 336       0.0804405075       0.9636102466                   \n",
       "(0.7,0.75] 136       0.0325592531       0.9961694996                   \n",
       "(0.75,0.8]  15       0.0035910941       0.9997605937                   \n",
       "(0.8,0.85]   1       0.0002394063       1.0000000000                   "
      ]
     },
     "metadata": {},
     "output_type": "display_data"
    }
   ],
   "source": [
    "abalone.length.freq <- table(abalone.length.cut)\n",
    "table.abalone.length <- cbind(abalone.length.freq, abalone.length.freq/num.obs, cumsum(abalone.length.freq/num.obs))\n",
    "colnames(table.abalone.length) <- c(\"Frequency\", \"Relative Frequency\", \"Cumulative Relavative Frequency\")\n",
    "table.abalone.length"
   ]
  },
  {
   "cell_type": "markdown",
   "id": "b737df26",
   "metadata": {},
   "source": [
    "### IV. Vẽ Các Biểu Đồ:\n",
    "**1. Biểu đồ hình cột (Bar chart)**:\n",
    "* Thực hiện với bảng tần số của cột **`sex`**:"
   ]
  },
  {
   "cell_type": "code",
   "execution_count": 17,
   "id": "587f303a",
   "metadata": {},
   "outputs": [
    {
     "data": {
      "text/html": [
       "<table>\n",
       "<thead><tr><th></th><th scope=col>abalone.sex.freq</th></tr></thead>\n",
       "<tbody>\n",
       "\t<tr><th scope=row>F</th><td>1307</td></tr>\n",
       "\t<tr><th scope=row>I</th><td>1342</td></tr>\n",
       "\t<tr><th scope=row>M</th><td>1528</td></tr>\n",
       "</tbody>\n",
       "</table>\n"
      ],
      "text/latex": [
       "\\begin{tabular}{r|l}\n",
       "  & abalone.sex.freq\\\\\n",
       "\\hline\n",
       "\tF & 1307\\\\\n",
       "\tI & 1342\\\\\n",
       "\tM & 1528\\\\\n",
       "\\end{tabular}\n"
      ],
      "text/markdown": [
       "\n",
       "| <!--/--> | abalone.sex.freq |\n",
       "|---|---|\n",
       "| F | 1307 |\n",
       "| I | 1342 |\n",
       "| M | 1528 |\n",
       "\n"
      ],
      "text/plain": [
       "  abalone.sex.freq\n",
       "F 1307            \n",
       "I 1342            \n",
       "M 1528            "
      ]
     },
     "metadata": {},
     "output_type": "display_data"
    }
   ],
   "source": [
    "abalone.sex.freq <- table(abalone$sex)\n",
    "cbind(abalone.sex.freq)"
   ]
  },
  {
   "cell_type": "code",
   "execution_count": 18,
   "id": "39473a52",
   "metadata": {},
   "outputs": [
    {
     "data": {
      "image/png": "[encoded data removed]",
      "text/plain": [
       "Plot with title \"Bar chart\""
      ]
     },
     "metadata": {
      "image/png": {
       "height": 420,
       "width": 420
      }
     },
     "output_type": "display_data"
    }
   ],
   "source": [
    "library(MASS) \n",
    "#png(file = \"barchart_sex.png\")\n",
    "\n",
    "colors <- c(\"blue\", \"yellow\", \"red\")\n",
    "barplot(abalone.sex.freq, xlab = \"Sex\", ylab = \"Frequency\", col = colors, main = \"Bar chart\")\n",
    "\n",
    "# Save the file\n",
    "#dev.off()"
   ]
  },
  {
   "cell_type": "markdown",
   "id": "3349909c",
   "metadata": {},
   "source": [
    "* Thực hiện với bảng tần số của cột **`rings`**:"
   ]
  },
  {
   "cell_type": "code",
   "execution_count": 19,
   "id": "65a7ac3a",
   "metadata": {},
   "outputs": [
    {
     "data": {
      "text/html": [
       "<table>\n",
       "<thead><tr><th></th><th scope=col>abalone.rings.freq</th></tr></thead>\n",
       "<tbody>\n",
       "\t<tr><th scope=row>1</th><td>  1</td></tr>\n",
       "\t<tr><th scope=row>2</th><td>  1</td></tr>\n",
       "\t<tr><th scope=row>3</th><td> 15</td></tr>\n",
       "\t<tr><th scope=row>4</th><td> 57</td></tr>\n",
       "\t<tr><th scope=row>5</th><td>115</td></tr>\n",
       "\t<tr><th scope=row>6</th><td>259</td></tr>\n",
       "\t<tr><th scope=row>7</th><td>391</td></tr>\n",
       "\t<tr><th scope=row>8</th><td>568</td></tr>\n",
       "\t<tr><th scope=row>9</th><td>689</td></tr>\n",
       "\t<tr><th scope=row>10</th><td>634</td></tr>\n",
       "\t<tr><th scope=row>11</th><td>487</td></tr>\n",
       "\t<tr><th scope=row>12</th><td>267</td></tr>\n",
       "\t<tr><th scope=row>13</th><td>203</td></tr>\n",
       "\t<tr><th scope=row>14</th><td>126</td></tr>\n",
       "\t<tr><th scope=row>15</th><td>103</td></tr>\n",
       "\t<tr><th scope=row>16</th><td> 67</td></tr>\n",
       "\t<tr><th scope=row>17</th><td> 58</td></tr>\n",
       "\t<tr><th scope=row>18</th><td> 42</td></tr>\n",
       "\t<tr><th scope=row>19</th><td> 32</td></tr>\n",
       "\t<tr><th scope=row>20</th><td> 26</td></tr>\n",
       "\t<tr><th scope=row>21</th><td> 14</td></tr>\n",
       "\t<tr><th scope=row>22</th><td>  6</td></tr>\n",
       "\t<tr><th scope=row>23</th><td>  9</td></tr>\n",
       "\t<tr><th scope=row>24</th><td>  2</td></tr>\n",
       "\t<tr><th scope=row>25</th><td>  1</td></tr>\n",
       "\t<tr><th scope=row>26</th><td>  1</td></tr>\n",
       "\t<tr><th scope=row>27</th><td>  2</td></tr>\n",
       "\t<tr><th scope=row>29</th><td>  1</td></tr>\n",
       "</tbody>\n",
       "</table>\n"
      ],
      "text/latex": [
       "\\begin{tabular}{r|l}\n",
       "  & abalone.rings.freq\\\\\n",
       "\\hline\n",
       "\t1 &   1\\\\\n",
       "\t2 &   1\\\\\n",
       "\t3 &  15\\\\\n",
       "\t4 &  57\\\\\n",
       "\t5 & 115\\\\\n",
       "\t6 & 259\\\\\n",
       "\t7 & 391\\\\\n",
       "\t8 & 568\\\\\n",
       "\t9 & 689\\\\\n",
       "\t10 & 634\\\\\n",
       "\t11 & 487\\\\\n",
       "\t12 & 267\\\\\n",
       "\t13 & 203\\\\\n",
       "\t14 & 126\\\\\n",
       "\t15 & 103\\\\\n",
       "\t16 &  67\\\\\n",
       "\t17 &  58\\\\\n",
       "\t18 &  42\\\\\n",
       "\t19 &  32\\\\\n",
       "\t20 &  26\\\\\n",
       "\t21 &  14\\\\\n",
       "\t22 &   6\\\\\n",
       "\t23 &   9\\\\\n",
       "\t24 &   2\\\\\n",
       "\t25 &   1\\\\\n",
       "\t26 &   1\\\\\n",
       "\t27 &   2\\\\\n",
       "\t29 &   1\\\\\n",
       "\\end{tabular}\n"
      ],
      "text/markdown": [
       "\n",
       "| <!--/--> | abalone.rings.freq |\n",
       "|---|---|\n",
       "| 1 |   1 |\n",
       "| 2 |   1 |\n",
       "| 3 |  15 |\n",
       "| 4 |  57 |\n",
       "| 5 | 115 |\n",
       "| 6 | 259 |\n",
       "| 7 | 391 |\n",
       "| 8 | 568 |\n",
       "| 9 | 689 |\n",
       "| 10 | 634 |\n",
       "| 11 | 487 |\n",
       "| 12 | 267 |\n",
       "| 13 | 203 |\n",
       "| 14 | 126 |\n",
       "| 15 | 103 |\n",
       "| 16 |  67 |\n",
       "| 17 |  58 |\n",
       "| 18 |  42 |\n",
       "| 19 |  32 |\n",
       "| 20 |  26 |\n",
       "| 21 |  14 |\n",
       "| 22 |   6 |\n",
       "| 23 |   9 |\n",
       "| 24 |   2 |\n",
       "| 25 |   1 |\n",
       "| 26 |   1 |\n",
       "| 27 |   2 |\n",
       "| 29 |   1 |\n",
       "\n"
      ],
      "text/plain": [
       "   abalone.rings.freq\n",
       "1    1               \n",
       "2    1               \n",
       "3   15               \n",
       "4   57               \n",
       "5  115               \n",
       "6  259               \n",
       "7  391               \n",
       "8  568               \n",
       "9  689               \n",
       "10 634               \n",
       "11 487               \n",
       "12 267               \n",
       "13 203               \n",
       "14 126               \n",
       "15 103               \n",
       "16  67               \n",
       "17  58               \n",
       "18  42               \n",
       "19  32               \n",
       "20  26               \n",
       "21  14               \n",
       "22   6               \n",
       "23   9               \n",
       "24   2               \n",
       "25   1               \n",
       "26   1               \n",
       "27   2               \n",
       "29   1               "
      ]
     },
     "metadata": {},
     "output_type": "display_data"
    }
   ],
   "source": [
    "abalone.rings.freq <- table(abalone$rings)\n",
    "cbind(abalone.rings.freq)"
   ]
  },
  {
   "cell_type": "code",
   "execution_count": 20,
   "id": "c0f4344c",
   "metadata": {},
   "outputs": [
    {
     "data": {
      "image/png": "[encoded data removed]",
      "text/plain": [
       "Plot with title \"Bar chart\""
      ]
     },
     "metadata": {
      "image/png": {
       "height": 420,
       "width": 420
      }
     },
     "output_type": "display_data"
    }
   ],
   "source": [
    "library(MASS) \n",
    "#png(file = \"barchart_rings.png\")\n",
    "\n",
    "barplot(abalone.rings.freq, xlab = \"Rings\", ylab = \"Frequency\", col = \"blue\", main = \"Bar chart\")\n",
    "\n",
    "# Save the file\n",
    "#dev.off()"
   ]
  },
  {
   "cell_type": "markdown",
   "id": "c756390f",
   "metadata": {},
   "source": [
    "**2. Biểu đồ hình quạt (Pie chart)**:\n",
    "* Thực hiện với bảng tần suất của cột **`sex`**:"
   ]
  },
  {
   "cell_type": "code",
   "execution_count": 21,
   "id": "a6a9ebe6",
   "metadata": {},
   "outputs": [
    {
     "data": {
      "text/html": [
       "<table>\n",
       "<thead><tr><th></th><th scope=col>abalone.sex.relfreq</th></tr></thead>\n",
       "<tbody>\n",
       "\t<tr><th scope=row>F</th><td>0.3129040</td></tr>\n",
       "\t<tr><th scope=row>I</th><td>0.3212832</td></tr>\n",
       "\t<tr><th scope=row>M</th><td>0.3658128</td></tr>\n",
       "</tbody>\n",
       "</table>\n"
      ],
      "text/latex": [
       "\\begin{tabular}{r|l}\n",
       "  & abalone.sex.relfreq\\\\\n",
       "\\hline\n",
       "\tF & 0.3129040\\\\\n",
       "\tI & 0.3212832\\\\\n",
       "\tM & 0.3658128\\\\\n",
       "\\end{tabular}\n"
      ],
      "text/markdown": [
       "\n",
       "| <!--/--> | abalone.sex.relfreq |\n",
       "|---|---|\n",
       "| F | 0.3129040 |\n",
       "| I | 0.3212832 |\n",
       "| M | 0.3658128 |\n",
       "\n"
      ],
      "text/plain": [
       "  abalone.sex.relfreq\n",
       "F 0.3129040          \n",
       "I 0.3212832          \n",
       "M 0.3658128          "
      ]
     },
     "metadata": {},
     "output_type": "display_data"
    }
   ],
   "source": [
    "abalone.sex.relfreq <- table(abalone$sex) / num.obs\n",
    "cbind(abalone.sex.relfreq)"
   ]
  },
  {
   "cell_type": "code",
   "execution_count": 22,
   "id": "24658168",
   "metadata": {},
   "outputs": [
    {
     "data": {
      "image/png": "[encoded data removed]",
      "text/plain": [
       "Plot with title \"Pie chart\""
      ]
     },
     "metadata": {
      "image/png": {
       "height": 420,
       "width": 420
      }
     },
     "output_type": "display_data"
    }
   ],
   "source": [
    "library(MASS) \n",
    "#png(file = \"piechart_sex.png\")\n",
    "\n",
    "pie(abalone.sex.relfreq, labels = abalone.sex.relfreq, col = rainbow(length(abalone.sex.relfreq)), main = \"Pie chart\")\n",
    "legend(\"topright\", c(\"Female\",\"Infant\",\"Male\"), cex = 0.85, fill = rainbow(length(abalone.sex.relfreq)))\n",
    "# Save the file\n",
    "#dev.off()"
   ]
  },
  {
   "cell_type": "markdown",
   "id": "11f4c952",
   "metadata": {},
   "source": [
    "**3. Biểu đồ histogram**:\n",
    "* Thực hiện với bảng  tần số của cột **`length`** sau khi chia nhóm:"
   ]
  },
  {
   "cell_type": "code",
   "execution_count": 23,
   "id": "4df7a3cf",
   "metadata": {},
   "outputs": [
    {
     "data": {
      "text/html": [
       "<table>\n",
       "<thead><tr><th></th><th scope=col>abalone.length.freq</th></tr></thead>\n",
       "<tbody>\n",
       "\t<tr><th scope=row>(0.05,0.1]</th><td>  1</td></tr>\n",
       "\t<tr><th scope=row>(0.1,0.15]</th><td>  7</td></tr>\n",
       "\t<tr><th scope=row>(0.15,0.2]</th><td> 41</td></tr>\n",
       "\t<tr><th scope=row>(0.2,0.25]</th><td> 57</td></tr>\n",
       "\t<tr><th scope=row>(0.25,0.3]</th><td>122</td></tr>\n",
       "\t<tr><th scope=row>(0.3,0.35]</th><td>180</td></tr>\n",
       "\t<tr><th scope=row>(0.35,0.4]</th><td>287</td></tr>\n",
       "\t<tr><th scope=row>(0.4,0.45]</th><td>372</td></tr>\n",
       "\t<tr><th scope=row>(0.45,0.5]</th><td>524</td></tr>\n",
       "\t<tr><th scope=row>(0.5,0.55]</th><td>637</td></tr>\n",
       "\t<tr><th scope=row>(0.55,0.6]</th><td>733</td></tr>\n",
       "\t<tr><th scope=row>(0.6,0.65]</th><td>728</td></tr>\n",
       "\t<tr><th scope=row>(0.65,0.7]</th><td>336</td></tr>\n",
       "\t<tr><th scope=row>(0.7,0.75]</th><td>136</td></tr>\n",
       "\t<tr><th scope=row>(0.75,0.8]</th><td> 15</td></tr>\n",
       "\t<tr><th scope=row>(0.8,0.85]</th><td>  1</td></tr>\n",
       "</tbody>\n",
       "</table>\n"
      ],
      "text/latex": [
       "\\begin{tabular}{r|l}\n",
       "  & abalone.length.freq\\\\\n",
       "\\hline\n",
       "\t(0.05,0.1{]} &   1\\\\\n",
       "\t(0.1,0.15{]} &   7\\\\\n",
       "\t(0.15,0.2{]} &  41\\\\\n",
       "\t(0.2,0.25{]} &  57\\\\\n",
       "\t(0.25,0.3{]} & 122\\\\\n",
       "\t(0.3,0.35{]} & 180\\\\\n",
       "\t(0.35,0.4{]} & 287\\\\\n",
       "\t(0.4,0.45{]} & 372\\\\\n",
       "\t(0.45,0.5{]} & 524\\\\\n",
       "\t(0.5,0.55{]} & 637\\\\\n",
       "\t(0.55,0.6{]} & 733\\\\\n",
       "\t(0.6,0.65{]} & 728\\\\\n",
       "\t(0.65,0.7{]} & 336\\\\\n",
       "\t(0.7,0.75{]} & 136\\\\\n",
       "\t(0.75,0.8{]} &  15\\\\\n",
       "\t(0.8,0.85{]} &   1\\\\\n",
       "\\end{tabular}\n"
      ],
      "text/markdown": [
       "\n",
       "| <!--/--> | abalone.length.freq |\n",
       "|---|---|\n",
       "| (0.05,0.1] |   1 |\n",
       "| (0.1,0.15] |   7 |\n",
       "| (0.15,0.2] |  41 |\n",
       "| (0.2,0.25] |  57 |\n",
       "| (0.25,0.3] | 122 |\n",
       "| (0.3,0.35] | 180 |\n",
       "| (0.35,0.4] | 287 |\n",
       "| (0.4,0.45] | 372 |\n",
       "| (0.45,0.5] | 524 |\n",
       "| (0.5,0.55] | 637 |\n",
       "| (0.55,0.6] | 733 |\n",
       "| (0.6,0.65] | 728 |\n",
       "| (0.65,0.7] | 336 |\n",
       "| (0.7,0.75] | 136 |\n",
       "| (0.75,0.8] |  15 |\n",
       "| (0.8,0.85] |   1 |\n",
       "\n"
      ],
      "text/plain": [
       "           abalone.length.freq\n",
       "(0.05,0.1]   1                \n",
       "(0.1,0.15]   7                \n",
       "(0.15,0.2]  41                \n",
       "(0.2,0.25]  57                \n",
       "(0.25,0.3] 122                \n",
       "(0.3,0.35] 180                \n",
       "(0.35,0.4] 287                \n",
       "(0.4,0.45] 372                \n",
       "(0.45,0.5] 524                \n",
       "(0.5,0.55] 637                \n",
       "(0.55,0.6] 733                \n",
       "(0.6,0.65] 728                \n",
       "(0.65,0.7] 336                \n",
       "(0.7,0.75] 136                \n",
       "(0.75,0.8]  15                \n",
       "(0.8,0.85]   1                "
      ]
     },
     "metadata": {},
     "output_type": "display_data"
    }
   ],
   "source": [
    "breaks <- seq(0.05, 0.85, by=0.05)\n",
    "abalone.length.cut <- cut(abalone$length, breaks, right = TRUE)\n",
    "abalone.length.freq <- table(abalone.length.cut)\n",
    "cbind(abalone.length.freq)"
   ]
  },
  {
   "cell_type": "code",
   "execution_count": 24,
   "id": "5266e91e",
   "metadata": {},
   "outputs": [
    {
     "data": {
      "image/png": "[encoded data removed]",
      "text/plain": [
       "Plot with title \"Histogram\""
      ]
     },
     "metadata": {
      "image/png": {
       "height": 420,
       "width": 420
      }
     },
     "output_type": "display_data"
    }
   ],
   "source": [
    "library(MASS) \n",
    "#png(file = \"histchart_length.png\")\n",
    "\n",
    "hist(abalone$length, breaks, xlab = \"Length\", ylab = \"Frequency\", main = \"Histogram\", col = \"grey\")\n",
    "\n",
    "# Save the file\n",
    "#dev.off()"
   ]
  },
  {
   "cell_type": "markdown",
   "id": "219faa32",
   "metadata": {},
   "source": [
    "**4. Đa giác tần số, tần suất**\n",
    "* Thực hiện với bảng tần suất của cột **`rings`** sau khi chia nhóm."
   ]
  },
  {
   "cell_type": "code",
   "execution_count": 25,
   "id": "48d29bba",
   "metadata": {},
   "outputs": [
    {
     "data": {
      "text/html": [
       "<table>\n",
       "<thead><tr><th></th><th scope=col>abalone.rings.relfreq</th></tr></thead>\n",
       "<tbody>\n",
       "\t<tr><th scope=row>1</th><td>0.0002394063</td></tr>\n",
       "\t<tr><th scope=row>2</th><td>0.0002394063</td></tr>\n",
       "\t<tr><th scope=row>3</th><td>0.0035910941</td></tr>\n",
       "\t<tr><th scope=row>4</th><td>0.0136461575</td></tr>\n",
       "\t<tr><th scope=row>5</th><td>0.0275317213</td></tr>\n",
       "\t<tr><th scope=row>6</th><td>0.0620062246</td></tr>\n",
       "\t<tr><th scope=row>7</th><td>0.0936078525</td></tr>\n",
       "\t<tr><th scope=row>8</th><td>0.1359827627</td></tr>\n",
       "\t<tr><th scope=row>9</th><td>0.1649509217</td></tr>\n",
       "\t<tr><th scope=row>10</th><td>0.1517835767</td></tr>\n",
       "\t<tr><th scope=row>11</th><td>0.1165908547</td></tr>\n",
       "\t<tr><th scope=row>12</th><td>0.0639214747</td></tr>\n",
       "\t<tr><th scope=row>13</th><td>0.0485994733</td></tr>\n",
       "\t<tr><th scope=row>14</th><td>0.0301651903</td></tr>\n",
       "\t<tr><th scope=row>15</th><td>0.0246588461</td></tr>\n",
       "\t<tr><th scope=row>16</th><td>0.0160402203</td></tr>\n",
       "\t<tr><th scope=row>17</th><td>0.0138855638</td></tr>\n",
       "\t<tr><th scope=row>18</th><td>0.0100550634</td></tr>\n",
       "\t<tr><th scope=row>19</th><td>0.0076610007</td></tr>\n",
       "\t<tr><th scope=row>20</th><td>0.0062245631</td></tr>\n",
       "\t<tr><th scope=row>21</th><td>0.0033516878</td></tr>\n",
       "\t<tr><th scope=row>22</th><td>0.0014364376</td></tr>\n",
       "\t<tr><th scope=row>23</th><td>0.0021546565</td></tr>\n",
       "\t<tr><th scope=row>24</th><td>0.0004788125</td></tr>\n",
       "\t<tr><th scope=row>25</th><td>0.0002394063</td></tr>\n",
       "\t<tr><th scope=row>26</th><td>0.0002394063</td></tr>\n",
       "\t<tr><th scope=row>27</th><td>0.0004788125</td></tr>\n",
       "\t<tr><th scope=row>29</th><td>0.0002394063</td></tr>\n",
       "</tbody>\n",
       "</table>\n"
      ],
      "text/latex": [
       "\\begin{tabular}{r|l}\n",
       "  & abalone.rings.relfreq\\\\\n",
       "\\hline\n",
       "\t1 & 0.0002394063\\\\\n",
       "\t2 & 0.0002394063\\\\\n",
       "\t3 & 0.0035910941\\\\\n",
       "\t4 & 0.0136461575\\\\\n",
       "\t5 & 0.0275317213\\\\\n",
       "\t6 & 0.0620062246\\\\\n",
       "\t7 & 0.0936078525\\\\\n",
       "\t8 & 0.1359827627\\\\\n",
       "\t9 & 0.1649509217\\\\\n",
       "\t10 & 0.1517835767\\\\\n",
       "\t11 & 0.1165908547\\\\\n",
       "\t12 & 0.0639214747\\\\\n",
       "\t13 & 0.0485994733\\\\\n",
       "\t14 & 0.0301651903\\\\\n",
       "\t15 & 0.0246588461\\\\\n",
       "\t16 & 0.0160402203\\\\\n",
       "\t17 & 0.0138855638\\\\\n",
       "\t18 & 0.0100550634\\\\\n",
       "\t19 & 0.0076610007\\\\\n",
       "\t20 & 0.0062245631\\\\\n",
       "\t21 & 0.0033516878\\\\\n",
       "\t22 & 0.0014364376\\\\\n",
       "\t23 & 0.0021546565\\\\\n",
       "\t24 & 0.0004788125\\\\\n",
       "\t25 & 0.0002394063\\\\\n",
       "\t26 & 0.0002394063\\\\\n",
       "\t27 & 0.0004788125\\\\\n",
       "\t29 & 0.0002394063\\\\\n",
       "\\end{tabular}\n"
      ],
      "text/markdown": [
       "\n",
       "| <!--/--> | abalone.rings.relfreq |\n",
       "|---|---|\n",
       "| 1 | 0.0002394063 |\n",
       "| 2 | 0.0002394063 |\n",
       "| 3 | 0.0035910941 |\n",
       "| 4 | 0.0136461575 |\n",
       "| 5 | 0.0275317213 |\n",
       "| 6 | 0.0620062246 |\n",
       "| 7 | 0.0936078525 |\n",
       "| 8 | 0.1359827627 |\n",
       "| 9 | 0.1649509217 |\n",
       "| 10 | 0.1517835767 |\n",
       "| 11 | 0.1165908547 |\n",
       "| 12 | 0.0639214747 |\n",
       "| 13 | 0.0485994733 |\n",
       "| 14 | 0.0301651903 |\n",
       "| 15 | 0.0246588461 |\n",
       "| 16 | 0.0160402203 |\n",
       "| 17 | 0.0138855638 |\n",
       "| 18 | 0.0100550634 |\n",
       "| 19 | 0.0076610007 |\n",
       "| 20 | 0.0062245631 |\n",
       "| 21 | 0.0033516878 |\n",
       "| 22 | 0.0014364376 |\n",
       "| 23 | 0.0021546565 |\n",
       "| 24 | 0.0004788125 |\n",
       "| 25 | 0.0002394063 |\n",
       "| 26 | 0.0002394063 |\n",
       "| 27 | 0.0004788125 |\n",
       "| 29 | 0.0002394063 |\n",
       "\n"
      ],
      "text/plain": [
       "   abalone.rings.relfreq\n",
       "1  0.0002394063         \n",
       "2  0.0002394063         \n",
       "3  0.0035910941         \n",
       "4  0.0136461575         \n",
       "5  0.0275317213         \n",
       "6  0.0620062246         \n",
       "7  0.0936078525         \n",
       "8  0.1359827627         \n",
       "9  0.1649509217         \n",
       "10 0.1517835767         \n",
       "11 0.1165908547         \n",
       "12 0.0639214747         \n",
       "13 0.0485994733         \n",
       "14 0.0301651903         \n",
       "15 0.0246588461         \n",
       "16 0.0160402203         \n",
       "17 0.0138855638         \n",
       "18 0.0100550634         \n",
       "19 0.0076610007         \n",
       "20 0.0062245631         \n",
       "21 0.0033516878         \n",
       "22 0.0014364376         \n",
       "23 0.0021546565         \n",
       "24 0.0004788125         \n",
       "25 0.0002394063         \n",
       "26 0.0002394063         \n",
       "27 0.0004788125         \n",
       "29 0.0002394063         "
      ]
     },
     "metadata": {},
     "output_type": "display_data"
    }
   ],
   "source": [
    "abalone.rings.relfreq <- table(abalone$rings) / num.obs\n",
    "cbind(abalone.rings.relfreq)"
   ]
  },
  {
   "cell_type": "code",
   "execution_count": 26,
   "id": "9fd7315c",
   "metadata": {},
   "outputs": [
    {
     "data": {
      "image/png": "[encoded data removed]",
      "text/plain": [
       "Plot with title \"Line graph\""
      ]
     },
     "metadata": {
      "image/png": {
       "height": 420,
       "width": 420
      }
     },
     "output_type": "display_data"
    }
   ],
   "source": [
    "library(MASS) \n",
    "#png(file = \"Line_graph Rings.png\")\n",
    "\n",
    "plot(abalone.rings.relfreq, type = 'o', col = \"red\", xlab = \"Rings\", ylab = \"Relative Frequency\", main = \"Line graph\")\n",
    "\n",
    "# Save the file\n",
    "#dev.off()"
   ]
  },
  {
   "cell_type": "code",
   "execution_count": null,
   "id": "2cf6292a",
   "metadata": {},
   "outputs": [],
   "source": []
  }
 ],
 "metadata": {
  "kernelspec": {
   "display_name": "R",
   "language": "R",
   "name": "ir"
  },
  "language_info": {
   "codemirror_mode": "r",
   "file_extension": ".r",
   "mimetype": "text/x-r-source",
   "name": "R",
   "pygments_lexer": "r",
   "version": "3.6.3"
  }
 },
 "nbformat": 4,
 "nbformat_minor": 5
}
