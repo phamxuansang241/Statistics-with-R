{
 "cells": [
  {
   "cell_type": "markdown",
   "id": "d4a0c64b",
   "metadata": {},
   "source": [
    "# Bài Thực Hành R - Chương 2\n",
    "### Các thành viên nhóm:\n",
    "* Phạm Xuân Sang - 20195991\n",
    "* Vũ Thành Huy - 20195968\n",
    "* Hà Huyền Vi - 20196007"
   ]
  },
  {
   "cell_type": "markdown",
   "id": "b46a7e74",
   "metadata": {},
   "source": [
    "* **Nhập dữ liệu:**"
   ]
  },
  {
   "cell_type": "code",
   "execution_count": 28,
   "id": "8cc4aa7b",
   "metadata": {},
   "outputs": [
    {
     "data": {
      "text/html": [
       "<table>\n",
       "<thead><tr><th scope=col>sex</th><th scope=col>length</th><th scope=col>diameter</th><th scope=col>height</th><th scope=col>weight.whole</th><th scope=col>weight.shucked</th><th scope=col>weight.viscera</th><th scope=col>weight.shell</th><th scope=col>rings</th></tr></thead>\n",
       "<tbody>\n",
       "\t<tr><td>M     </td><td>0.455 </td><td>0.365 </td><td>0.095 </td><td>0.5140</td><td>0.2245</td><td>0.1010</td><td>0.150 </td><td>15    </td></tr>\n",
       "\t<tr><td>M     </td><td>0.350 </td><td>0.265 </td><td>0.090 </td><td>0.2255</td><td>0.0995</td><td>0.0485</td><td>0.070 </td><td> 7    </td></tr>\n",
       "\t<tr><td>F     </td><td>0.530 </td><td>0.420 </td><td>0.135 </td><td>0.6770</td><td>0.2565</td><td>0.1415</td><td>0.210 </td><td> 9    </td></tr>\n",
       "\t<tr><td>M     </td><td>0.440 </td><td>0.365 </td><td>0.125 </td><td>0.5160</td><td>0.2155</td><td>0.1140</td><td>0.155 </td><td>10    </td></tr>\n",
       "\t<tr><td>I     </td><td>0.330 </td><td>0.255 </td><td>0.080 </td><td>0.2050</td><td>0.0895</td><td>0.0395</td><td>0.055 </td><td> 7    </td></tr>\n",
       "\t<tr><td>I     </td><td>0.425 </td><td>0.300 </td><td>0.095 </td><td>0.3515</td><td>0.1410</td><td>0.0775</td><td>0.120 </td><td> 8    </td></tr>\n",
       "</tbody>\n",
       "</table>\n"
      ],
      "text/latex": [
       "\\begin{tabular}{r|lllllllll}\n",
       " sex & length & diameter & height & weight.whole & weight.shucked & weight.viscera & weight.shell & rings\\\\\n",
       "\\hline\n",
       "\t M      & 0.455  & 0.365  & 0.095  & 0.5140 & 0.2245 & 0.1010 & 0.150  & 15    \\\\\n",
       "\t M      & 0.350  & 0.265  & 0.090  & 0.2255 & 0.0995 & 0.0485 & 0.070  &  7    \\\\\n",
       "\t F      & 0.530  & 0.420  & 0.135  & 0.6770 & 0.2565 & 0.1415 & 0.210  &  9    \\\\\n",
       "\t M      & 0.440  & 0.365  & 0.125  & 0.5160 & 0.2155 & 0.1140 & 0.155  & 10    \\\\\n",
       "\t I      & 0.330  & 0.255  & 0.080  & 0.2050 & 0.0895 & 0.0395 & 0.055  &  7    \\\\\n",
       "\t I      & 0.425  & 0.300  & 0.095  & 0.3515 & 0.1410 & 0.0775 & 0.120  &  8    \\\\\n",
       "\\end{tabular}\n"
      ],
      "text/markdown": [
       "\n",
       "| sex | length | diameter | height | weight.whole | weight.shucked | weight.viscera | weight.shell | rings |\n",
       "|---|---|---|---|---|---|---|---|---|\n",
       "| M      | 0.455  | 0.365  | 0.095  | 0.5140 | 0.2245 | 0.1010 | 0.150  | 15     |\n",
       "| M      | 0.350  | 0.265  | 0.090  | 0.2255 | 0.0995 | 0.0485 | 0.070  |  7     |\n",
       "| F      | 0.530  | 0.420  | 0.135  | 0.6770 | 0.2565 | 0.1415 | 0.210  |  9     |\n",
       "| M      | 0.440  | 0.365  | 0.125  | 0.5160 | 0.2155 | 0.1140 | 0.155  | 10     |\n",
       "| I      | 0.330  | 0.255  | 0.080  | 0.2050 | 0.0895 | 0.0395 | 0.055  |  7     |\n",
       "| I      | 0.425  | 0.300  | 0.095  | 0.3515 | 0.1410 | 0.0775 | 0.120  |  8     |\n",
       "\n"
      ],
      "text/plain": [
       "  sex length diameter height weight.whole weight.shucked weight.viscera\n",
       "1 M   0.455  0.365    0.095  0.5140       0.2245         0.1010        \n",
       "2 M   0.350  0.265    0.090  0.2255       0.0995         0.0485        \n",
       "3 F   0.530  0.420    0.135  0.6770       0.2565         0.1415        \n",
       "4 M   0.440  0.365    0.125  0.5160       0.2155         0.1140        \n",
       "5 I   0.330  0.255    0.080  0.2050       0.0895         0.0395        \n",
       "6 I   0.425  0.300    0.095  0.3515       0.1410         0.0775        \n",
       "  weight.shell rings\n",
       "1 0.150        15   \n",
       "2 0.070         7   \n",
       "3 0.210         9   \n",
       "4 0.155        10   \n",
       "5 0.055         7   \n",
       "6 0.120         8   "
      ]
     },
     "metadata": {},
     "output_type": "display_data"
    },
    {
     "data": {
      "text/html": [
       "<ol class=list-inline>\n",
       "\t<li>4177</li>\n",
       "\t<li>9</li>\n",
       "</ol>\n"
      ],
      "text/latex": [
       "\\begin{enumerate*}\n",
       "\\item 4177\n",
       "\\item 9\n",
       "\\end{enumerate*}\n"
      ],
      "text/markdown": [
       "1. 4177\n",
       "2. 9\n",
       "\n",
       "\n"
      ],
      "text/plain": [
       "[1] 4177    9"
      ]
     },
     "metadata": {},
     "output_type": "display_data"
    }
   ],
   "source": [
    "library(BSDA)\n",
    "abalone <- read.csv(\"abalone.csv\")\n",
    "head(abalone)\n",
    "dim(abalone)"
   ]
  },
  {
   "cell_type": "markdown",
   "id": "82b4a79e",
   "metadata": {},
   "source": [
    "## I. Tìm khoảng tin cậy:\n",
    "**1. Khoảng tin cậy cho giá trị trung bình:**\n",
    "\n",
    "\n",
    "**a. Phương sai chưa biết:**\n",
    "    \n",
    "- Áp dụng tìm khoảng tin cậy cho cột **`length`** với độ tin cậy $\\gamma = 0.99$."
   ]
  },
  {
   "cell_type": "markdown",
   "id": "974ceb13",
   "metadata": {},
   "source": [
    ">- **Cách 1:** Sử dụng công thức: \n",
    "\n",
    "$$P\\left(\\overline{x} - t^{(n-1)}_{1-\\alpha_2}\\dfrac{s}{\\sqrt{n}} \\mu \\leq \\overline{x} + t^{(n-1)}_{1-\\alpha_1}\\dfrac{s}{\\sqrt{n}}\\right) = 1 - \\alpha$$"
   ]
  },
  {
   "cell_type": "markdown",
   "id": "fd48039c",
   "metadata": {},
   "source": [
    "Tính phương sai mẫu hiệu chỉnh và Sai số tiêu chuẩn:"
   ]
  },
  {
   "cell_type": "code",
   "execution_count": 4,
   "id": "74a1fbda",
   "metadata": {},
   "outputs": [
    {
     "data": {
      "text/html": [
       "'The number of observations: 4177'"
      ],
      "text/latex": [
       "'The number of observations: 4177'"
      ],
      "text/markdown": [
       "'The number of observations: 4177'"
      ],
      "text/plain": [
       "[1] \"The number of observations: 4177\""
      ]
     },
     "metadata": {},
     "output_type": "display_data"
    },
    {
     "data": {
      "text/html": [
       "'Sample Standard Deviation: 0.12009'"
      ],
      "text/latex": [
       "'Sample Standard Deviation: 0.12009'"
      ],
      "text/markdown": [
       "'Sample Standard Deviation: 0.12009'"
      ],
      "text/plain": [
       "[1] \"Sample Standard Deviation: 0.12009\""
      ]
     },
     "metadata": {},
     "output_type": "display_data"
    },
    {
     "data": {
      "text/html": [
       "'Standard Error Estimate: 0.00186'"
      ],
      "text/latex": [
       "'Standard Error Estimate: 0.00186'"
      ],
      "text/markdown": [
       "'Standard Error Estimate: 0.00186'"
      ],
      "text/plain": [
       "[1] \"Standard Error Estimate: 0.00186\""
      ]
     },
     "metadata": {},
     "output_type": "display_data"
    }
   ],
   "source": [
    "options(digits = 5)\n",
    "n = length(abalone$length)\n",
    "sprintf(\"The number of observations: %d\", n)\n",
    "s = sd(abalone$length)\n",
    "sprintf(\"Sample Standard Deviation: %.5f\", s)\n",
    "SE = s/sqrt(n)\n",
    "sprintf(\"Standard Error Estimate: %.5f\", SE)"
   ]
  },
  {
   "cell_type": "markdown",
   "id": "4550dec4",
   "metadata": {},
   "source": [
    "* **Ta thu được**: \n",
    " * Phương sai mẫu hiệu chỉnh: 0.12009\n",
    " * Sai số tiêu chuẩn: 0.00186"
   ]
  },
  {
   "cell_type": "markdown",
   "id": "9449d3f7",
   "metadata": {},
   "source": [
    ">> Khoảng tin cậy đối xứng:"
   ]
  },
  {
   "cell_type": "code",
   "execution_count": 5,
   "id": "15adf67e",
   "metadata": {},
   "outputs": [
    {
     "data": {
      "text/html": [
       "'xbar: 0.52399'"
      ],
      "text/latex": [
       "'xbar: 0.52399'"
      ],
      "text/markdown": [
       "'xbar: 0.52399'"
      ],
      "text/plain": [
       "[1] \"xbar: 0.52399\""
      ]
     },
     "metadata": {},
     "output_type": "display_data"
    },
    {
     "name": "stdout",
     "output_type": "stream",
     "text": [
      "[1] 0.51920 0.52878\n"
     ]
    }
   ],
   "source": [
    "E = qt(.995, df = n-1)*SE;\n",
    "xbar = mean(abalone$length)\n",
    "sprintf(\"xbar: %.5f\", xbar)\n",
    "print(xbar + c(-E, E))"
   ]
  },
  {
   "cell_type": "markdown",
   "id": "dfff82dc",
   "metadata": {},
   "source": [
    "**Kết luận:** Khoảng tin cậy đối xứng cho giá trị trung bình của chiều dài (cột **`length`**) các cá thể bào ngư là $(0.51920, 0.52878)$ với độ tin cậy 99%"
   ]
  },
  {
   "cell_type": "markdown",
   "id": "fcb7bb0a",
   "metadata": {},
   "source": [
    ">> Khoảng tin cậy trái:"
   ]
  },
  {
   "cell_type": "code",
   "execution_count": 6,
   "id": "449ae793",
   "metadata": {},
   "outputs": [
    {
     "name": "stdout",
     "output_type": "stream",
     "text": [
      "[1]    -Inf 0.52832\n"
     ]
    }
   ],
   "source": [
    "print(c(-Inf, xbar + qt(.99, df = n-1)*SE))"
   ]
  },
  {
   "cell_type": "markdown",
   "id": "8dc8abc7",
   "metadata": {},
   "source": [
    "**Kết luận:** Khoảng tin cậy đối trái cho giá trị trung bình của chiều dài (cột **`length`**) các cá thể bào ngư là $(-\\infty, 0.52832)$ với độ tin cậy 99%"
   ]
  },
  {
   "cell_type": "markdown",
   "id": "70cd6256",
   "metadata": {},
   "source": [
    ">> Khoảng tin cậy phải:"
   ]
  },
  {
   "cell_type": "code",
   "execution_count": 7,
   "id": "22b252e2",
   "metadata": {},
   "outputs": [
    {
     "name": "stdout",
     "output_type": "stream",
     "text": [
      "[1] 0.51967     Inf\n"
     ]
    }
   ],
   "source": [
    "print(c(xbar - qt(.99, df = n-1)*SE, Inf))"
   ]
  },
  {
   "cell_type": "markdown",
   "id": "8103fe40",
   "metadata": {},
   "source": [
    "**Kết luận:** Khoảng tin cậy đối phải cho giá trị trung bình của chiều dài (cột **`length`**) các cá thể bào ngư là $(0.51967, +\\infty)$ với độ tin cậy 99%"
   ]
  },
  {
   "cell_type": "markdown",
   "id": "653e8116",
   "metadata": {},
   "source": [
    ">* **Cách 2**: Sử dụng hàm **`t.test()`**"
   ]
  },
  {
   "cell_type": "markdown",
   "id": "f4768078",
   "metadata": {},
   "source": [
    ">> Khoảng tin cậy đối xứng:"
   ]
  },
  {
   "cell_type": "code",
   "execution_count": 8,
   "id": "26a69320",
   "metadata": {},
   "outputs": [
    {
     "name": "stdout",
     "output_type": "stream",
     "text": [
      "[1] 0.51920 0.52878\n",
      "attr(,\"conf.level\")\n",
      "[1] 0.99\n"
     ]
    }
   ],
   "source": [
    "print(t.test(x = abalone$length, conf.level = 0.99)$conf.int)"
   ]
  },
  {
   "cell_type": "markdown",
   "id": "7ecd06b3",
   "metadata": {},
   "source": [
    "**Kết luận:** Khoảng tin cậy đối xứng cho giá trị trung bình của chiều dài (cột **`length`**) các cá thể bào ngư là $(0.51920, 0.52878)$ với độ tin cậy 99%"
   ]
  },
  {
   "cell_type": "markdown",
   "id": "88b56bc3",
   "metadata": {},
   "source": [
    ">> Khoảng tin cậy trái:"
   ]
  },
  {
   "cell_type": "code",
   "execution_count": 9,
   "id": "200034b5",
   "metadata": {},
   "outputs": [
    {
     "name": "stdout",
     "output_type": "stream",
     "text": [
      "[1]    -Inf 0.52832\n",
      "attr(,\"conf.level\")\n",
      "[1] 0.99\n"
     ]
    }
   ],
   "source": [
    "print(t.test(x = abalone$length, alternative = \"less\", conf.level = 0.99)$conf.int)"
   ]
  },
  {
   "cell_type": "markdown",
   "id": "0f08a0e3",
   "metadata": {},
   "source": [
    "**Kết luận:** Khoảng tin cậy trái cho giá trị trung bình của chiều dài (cột **`length`**) các cá thể bào ngư là $(-\\infty, 0.52832)$ với độ tin cậy 99%"
   ]
  },
  {
   "cell_type": "markdown",
   "id": "b2483ce3",
   "metadata": {},
   "source": [
    ">> Khoảng tin cậy phải:"
   ]
  },
  {
   "cell_type": "code",
   "execution_count": 10,
   "id": "8e69fa22",
   "metadata": {},
   "outputs": [
    {
     "name": "stdout",
     "output_type": "stream",
     "text": [
      "[1] 0.51967     Inf\n",
      "attr(,\"conf.level\")\n",
      "[1] 0.99\n"
     ]
    }
   ],
   "source": [
    "print(t.test(x = abalone$length, alternative = \"greater\", conf.level = 0.99)$conf.int)"
   ]
  },
  {
   "cell_type": "markdown",
   "id": "c6226e1e",
   "metadata": {},
   "source": [
    "**Kết luận:** Khoảng tin cậy phải cho giá trị trung bình của chiều dài (cột **`length`**) các cá thể bào ngư là $(0.51967, +\\infty)$ với độ tin cậy 99%"
   ]
  },
  {
   "cell_type": "markdown",
   "id": "6a003b36",
   "metadata": {},
   "source": [
    "### Nhận xét:\n",
    "Cách tự tính bằng công thức và dùng hàm **`t.test()`** đều cho ra cùng một kết quả."
   ]
  },
  {
   "cell_type": "markdown",
   "id": "f24a9102",
   "metadata": {},
   "source": [
    "**b. Phương sai đã biết bằng hàm `z.test()`**\n",
    "\n",
    "- Áp dụng tìm khoảng tin cậy cho cột **`height`** với độ tin cậy $\\gamma = 0.95$.\n",
    "- Giả sử phương sai $\\sigma = 0.2$"
   ]
  },
  {
   "cell_type": "markdown",
   "id": "01d0ed6d",
   "metadata": {},
   "source": [
    ">> Khoảng tin cậy đối xứng:"
   ]
  },
  {
   "cell_type": "code",
   "execution_count": 11,
   "id": "355098ef",
   "metadata": {},
   "outputs": [
    {
     "name": "stdout",
     "output_type": "stream",
     "text": [
      "[1] 0.13830 0.14073\n",
      "attr(,\"conf.level\")\n",
      "[1] 0.95\n"
     ]
    }
   ],
   "source": [
    "print(z.test(x = abalone$height, sigma.x = 0.04, conf.level = 0.95)$conf.int)"
   ]
  },
  {
   "cell_type": "markdown",
   "id": "543beba9",
   "metadata": {},
   "source": [
    "**Kết luận:** Khoảng tin cậy đối xứng cho giá trị trung bình của chiều cao (cột **`heigth`**) các cá thể bào ngư là $(0.13830, 0.14073)$ với độ tin cậy 95%"
   ]
  },
  {
   "cell_type": "markdown",
   "id": "001a951e",
   "metadata": {},
   "source": [
    ">> Khoảng tin cậy trái:"
   ]
  },
  {
   "cell_type": "code",
   "execution_count": 10,
   "id": "c3e415b4",
   "metadata": {},
   "outputs": [
    {
     "name": "stdout",
     "output_type": "stream",
     "text": [
      "[1]      NA 0.14053\n",
      "attr(,\"conf.level\")\n",
      "[1] 0.95\n"
     ]
    }
   ],
   "source": [
    "print(z.test(x = abalone$height, alternative = \"less\", sigma.x = 0.04, conf.level = 0.95)$conf.int)"
   ]
  },
  {
   "cell_type": "markdown",
   "id": "10b850df",
   "metadata": {},
   "source": [
    "**Kết luận:** Khoảng tin cậy trái cho giá trị trung bình của chiều cao (cột **`heigth`**) các cá thể bào ngư là $(-\\infty, 0.14053)$ với độ tin cậy 95%"
   ]
  },
  {
   "cell_type": "markdown",
   "id": "7a6f7a9f",
   "metadata": {},
   "source": [
    ">> Khoảng tin cậy phải:"
   ]
  },
  {
   "cell_type": "code",
   "execution_count": 11,
   "id": "5403d55d",
   "metadata": {},
   "outputs": [
    {
     "name": "stdout",
     "output_type": "stream",
     "text": [
      "[1] 0.1385     NA\n",
      "attr(,\"conf.level\")\n",
      "[1] 0.95\n"
     ]
    }
   ],
   "source": [
    "print(z.test(x = abalone$height, alternative = \"greater\", sigma.x = 0.04, conf.level = 0.95)$conf.int)"
   ]
  },
  {
   "cell_type": "markdown",
   "id": "e1a5edbc",
   "metadata": {},
   "source": [
    "**Kết luận:** Khoảng tin cậy phải cho giá trị trung bình của chiều cao (cột **`heigth`**) các cá thể bào ngư là $(0.1385, +\\infty)$ với độ tin cậy 95%"
   ]
  },
  {
   "cell_type": "markdown",
   "id": "eec5b35b",
   "metadata": {},
   "source": [
    "**2. Khoảng tin cậy cho tỷ lệ bằng hàm `prop.test()`**"
   ]
  },
  {
   "cell_type": "markdown",
   "id": "d4af0f2d",
   "metadata": {},
   "source": [
    "- Áp dụng tìm khoảng tin cậy cho tỷ lệ cá thể có giới tính là **`Male`** với độ tin cậy $\\sigma = 0.95$."
   ]
  },
  {
   "cell_type": "markdown",
   "id": "513078ae",
   "metadata": {},
   "source": [
    "**k** là số cá thể có giới tính **`Male`**."
   ]
  },
  {
   "cell_type": "code",
   "execution_count": 15,
   "id": "568c1233",
   "metadata": {},
   "outputs": [
    {
     "data": {
      "text/html": [
       "'k = 1528'"
      ],
      "text/latex": [
       "'k = 1528'"
      ],
      "text/markdown": [
       "'k = 1528'"
      ],
      "text/plain": [
       "[1] \"k = 1528\""
      ]
     },
     "metadata": {},
     "output_type": "display_data"
    }
   ],
   "source": [
    "k = sum(abalone$sex == \"M\")\n",
    "sprintf(\"k = %d\", k)"
   ]
  },
  {
   "cell_type": "markdown",
   "id": "c2652b02",
   "metadata": {},
   "source": [
    ">> Khoảng tin cậy đối xứng:"
   ]
  },
  {
   "cell_type": "code",
   "execution_count": 16,
   "id": "032cded3",
   "metadata": {},
   "outputs": [
    {
     "name": "stdout",
     "output_type": "stream",
     "text": [
      "[1] 0.35122 0.38066\n",
      "attr(,\"conf.level\")\n",
      "[1] 0.95\n"
     ]
    }
   ],
   "source": [
    "print(prop.test(k, n)$conf.int)"
   ]
  },
  {
   "cell_type": "markdown",
   "id": "af4d4bc1",
   "metadata": {},
   "source": [
    "**Kết luận:** Khoảng tin cậy đối xứng cho tỷ lệ các cá thể bào ngư mang giới tính đực (cột **`Male`**) là $(0.35122, 0.38066)$ với độ tin cậy 95%"
   ]
  },
  {
   "cell_type": "markdown",
   "id": "035b6804",
   "metadata": {},
   "source": [
    ">> Khoảng tin cậy trái:"
   ]
  },
  {
   "cell_type": "code",
   "execution_count": 20,
   "id": "5cffd870",
   "metadata": {},
   "outputs": [
    {
     "name": "stdout",
     "output_type": "stream",
     "text": [
      "[1] 0.00000 0.37827\n",
      "attr(,\"conf.level\")\n",
      "[1] 0.95\n"
     ]
    }
   ],
   "source": [
    "print(prop.test(k, n, alternative = \"less\")$conf.int)"
   ]
  },
  {
   "cell_type": "markdown",
   "id": "a6ddfedf",
   "metadata": {},
   "source": [
    "**Kết luận:** Khoảng tin cậy trái cho tỷ lệ các cá thể bào ngư mang giới tính đực (cột **`Male`**) là $(0.00000, 0.37827)$ với độ tin cậy 95%"
   ]
  },
  {
   "cell_type": "markdown",
   "id": "70831144",
   "metadata": {},
   "source": [
    ">> Khoảng tin cậy phải:"
   ]
  },
  {
   "cell_type": "code",
   "execution_count": 21,
   "id": "38889fd7",
   "metadata": {},
   "outputs": [
    {
     "name": "stdout",
     "output_type": "stream",
     "text": [
      "[1] 0.35353 1.00000\n",
      "attr(,\"conf.level\")\n",
      "[1] 0.95\n"
     ]
    }
   ],
   "source": [
    "print(prop.test(k, n, alternative = \"greater\")$conf.int)"
   ]
  },
  {
   "cell_type": "markdown",
   "id": "8de6af7d",
   "metadata": {},
   "source": [
    "**Kết luận:** Khoảng tin cậy phải cho tỷ lệ các cá thể bào ngư mang giới tính đực (cột **`Male`**) là $(0.35353, 1.00000)$ với độ tin cậy 95%"
   ]
  },
  {
   "cell_type": "markdown",
   "id": "4b15cff4",
   "metadata": {},
   "source": [
    "**3. Khoảng tin cậy cho phương sai**"
   ]
  },
  {
   "cell_type": "markdown",
   "id": "3544585d",
   "metadata": {},
   "source": [
    "- Áp dụng tìm khoảng tin cậy cho cột **`length`** với độ tin cậy $\\sigma = 0.99$."
   ]
  },
  {
   "cell_type": "code",
   "execution_count": 23,
   "id": "8c1ffe28",
   "metadata": {},
   "outputs": [
    {
     "name": "stdout",
     "output_type": "stream",
     "text": [
      "[1] 0.013641\n",
      "[1] 0.015269\n"
     ]
    }
   ],
   "source": [
    "vbar = var(abalone$length)\n",
    "s = sd(abalone$length)\n",
    "left = s*s*(n-1)/qchisq(.995, df = n-1)\n",
    "right = s*s*(n-1)/qchisq(.005, df = n-1)\n",
    "print(left)\n",
    "print(right)"
   ]
  },
  {
   "cell_type": "markdown",
   "id": "dca889bd",
   "metadata": {},
   "source": [
    "- Tạo hàm **var.interval** để tìm khoản ước lượng với với 2 tham số **data, conf.level** (Trường hợp kỳ vọng không biết)."
   ]
  },
  {
   "cell_type": "code",
   "execution_count": 24,
   "id": "f4d1d7aa",
   "metadata": {},
   "outputs": [],
   "source": [
    "var.interval = function(data, alternative = \"two.sided\", conf.level = 0.95) {\n",
    "    df = length(data) - 1\n",
    "    chi.lower = qchisq((1 - conf.level)/2, df)\n",
    "    chi.upper = qchisq((1 - conf.level)/2, df, lower.tail = FALSE)\n",
    "    v = var(data)\n",
    "    \n",
    "    res = 1\n",
    "    if(alternative == \"two.sided\") {\n",
    "        res = c(df*v/chi.upper, df*v/chi.lower)\n",
    "    }\n",
    "    \n",
    "    if(alternative == \"less\") {\n",
    "        res = c(0, df*v/qchisq(1 - conf.level, df))\n",
    "    }\n",
    "    \n",
    "    if(alternative == \"greater\") {\n",
    "        res = c(df*v/qchisq(conf.level, df), Inf)\n",
    "    }\n",
    "    \n",
    "    return(res)\n",
    "}"
   ]
  },
  {
   "cell_type": "markdown",
   "id": "68a55c29",
   "metadata": {},
   "source": [
    "* Khoảng tin cậy đối xứng của trung bình "
   ]
  },
  {
   "cell_type": "code",
   "execution_count": 25,
   "id": "74690fd2",
   "metadata": {},
   "outputs": [
    {
     "name": "stdout",
     "output_type": "stream",
     "text": [
      "[1] 0.013641 0.015269\n"
     ]
    }
   ],
   "source": [
    "print(var.interval(abalone$length, alternative = \"two.sided\", conf.level = 0.99))"
   ]
  },
  {
   "cell_type": "markdown",
   "id": "1cbedfb0",
   "metadata": {},
   "source": [
    "**Kết luận:** Khoảng tin cậy đối xứng cho phương sai của chiều dài (cột **`length`**) các cá thể bào ngư là $(0.013641, 0.015269)$ với độ tin cậy 99%"
   ]
  },
  {
   "cell_type": "markdown",
   "id": "bc2baa32",
   "metadata": {},
   "source": [
    "## II. Tìm cỡ mẫu:"
   ]
  },
  {
   "cell_type": "markdown",
   "id": "a90bb322",
   "metadata": {},
   "source": [
    "**1. Trường hợp ước lượng cho giá trị trung bình:**"
   ]
  },
  {
   "cell_type": "markdown",
   "id": "7faf56d3",
   "metadata": {},
   "source": [
    "**a. Đã biết phương sai:**\n",
    "- Viết hàm **sample.size.mean.fi** trả về **cỡ mẫu tối thiểu** để ước lượng được **giá trị trung bình** với sai số không quá **`margin.error`** và độ tin cậy **`conf.level`** (phương sai đã biết là **`sigma`**).\n",
    "- Hàm nhận vào 3 tham số:\n",
    " - **sigma**: phương sai đã biết\n",
    " - **margin.error**: sai số\n",
    " - **conf.level**: độ tin cậy"
   ]
  },
  {
   "cell_type": "code",
   "execution_count": 26,
   "id": "eb2c6b3d",
   "metadata": {},
   "outputs": [],
   "source": [
    "sample.size.mean.fi = function(sigma, margin.error, conf.level) {\n",
    "    return(sigma^2 * qnorm(1 - (1 - conf.level)/2)^2 / margin.error^2)\n",
    "}"
   ]
  },
  {
   "cell_type": "markdown",
   "id": "7c15e3ae",
   "metadata": {},
   "source": [
    "- Ví dụ: phương sai là **9**, sai số là **2**, độ tin cậy là **0.95**"
   ]
  },
  {
   "cell_type": "code",
   "execution_count": 27,
   "id": "84d0c0a7",
   "metadata": {},
   "outputs": [
    {
     "name": "stdout",
     "output_type": "stream",
     "text": [
      "[1] 77.79\n"
     ]
    }
   ],
   "source": [
    "print(sample.size.mean.fi(9, 2, 0.95))"
   ]
  },
  {
   "cell_type": "markdown",
   "id": "158c912a",
   "metadata": {},
   "source": [
    "**Kết luận:** Cỡ mẫu cần tìm là 78"
   ]
  },
  {
   "cell_type": "markdown",
   "id": "e483110a",
   "metadata": {},
   "source": [
    "**b. Chưa biết phương sai**"
   ]
  },
  {
   "cell_type": "markdown",
   "id": "7b1056d3",
   "metadata": {},
   "source": [
    "- Viết hàm **sample.size.mean.se** trả về **cỡ mẫu tối thiểu** để ước lượng được **giá trị trung bình** với sai số không quá **`margin.error`** và độ tin cậy **`conf.level`** (kích thước mẫu sơ bộ là **`num.sample`**).\n",
    "- Hàm nhận vào 4 tham số:\n",
    " - **data**: cột vector cần ước lượng\n",
    " - **num.sample**: kích thước mẫu sơ bộ\n",
    " - **margin.error**: sai số\n",
    " - **conf.level**: độ tin cậy"
   ]
  },
  {
   "cell_type": "code",
   "execution_count": 21,
   "id": "99a0e6a4",
   "metadata": {},
   "outputs": [],
   "source": [
    "\n",
    "sample.size.mean.se = function(data, num.sample, margin.error, conf.level) {\n",
    "    new.sample = sample(data, num.sample) \n",
    "    sigma = sd(new.sample)\n",
    "    res = ceiling(sigma^2 * qnorm(1 - (1 - conf.level)/2)^2 / margin.error^2)\n",
    "    add.res = res - num.sample\n",
    "    return(c(res, add.res))\n",
    "}\n"
   ]
  },
  {
   "cell_type": "markdown",
   "id": "4e12170b",
   "metadata": {},
   "source": [
    "Áp dụng với cột **`length`** với cỡ mẫu sơ bộ **100**, sai số **0.01**, độ tin cậy **0.95**\n",
    "- Tìm cỡ mẫu với 100 mẫu sơ bộ có kích thước 200, ta thu được cỡ mẫu trung bình cần tìm:"
   ]
  },
  {
   "cell_type": "code",
   "execution_count": 76,
   "id": "e81d72f0",
   "metadata": {},
   "outputs": [
    {
     "name": "stdout",
     "output_type": "stream",
     "text": [
      "[1] \"Khoang tin cay cua co mau voi do tin cay 0.99:\"\n",
      "[1] 536.34\n",
      "[1] 564.62\n"
     ]
    },
    {
     "data": {
      "text/html": [
       "'Co mau trung binh can tim: 551'"
      ],
      "text/latex": [
       "'Co mau trung binh can tim: 551'"
      ],
      "text/markdown": [
       "'Co mau trung binh can tim: 551'"
      ],
      "text/plain": [
       "[1] \"Co mau trung binh can tim: 551\""
      ]
     },
     "metadata": {},
     "output_type": "display_data"
    }
   ],
   "source": [
    "get.sample.size = function(times, data, num.sample, margin.error, conf.level) {\n",
    "    sample.size = c()\n",
    "    for(it in 1:times) {\n",
    "        temp = sample.size.mean.se(data, num.sample, margin.error, conf.level)[1]\n",
    "        sample.size = c(sample.size, temp)\n",
    "    }\n",
    "    print(\"Khoang tin cay cua co mau voi do tin cay 0.99:\")\n",
    "    print(t.test(x = sample.size, alternative = \"two.sided\", conf.level = 0.99)$conf.int[1])\n",
    "    print(t.test(x = sample.size, alternative = \"two.sided\", conf.level = 0.99)$conf.int[2])\n",
    "    return(mean(sample.size))\n",
    "}\n",
    "\n",
    "answer = get.sample.size(100, abalone$length, 200, 0.01, 0.95)\n",
    "sprintf(\"Co mau trung binh can tim: %d\", ceiling(answer))"
   ]
  },
  {
   "cell_type": "markdown",
   "id": "dde8736c",
   "metadata": {},
   "source": [
    ">> - Ta thu được khoảng tin cậy của cỡ mẫu với độ tin cậy 0.99 là **(536.34; 564.62)**\n",
    "\n",
    ">> - Cỡ mẫu trung bình cần tìm là: **551**"
   ]
  },
  {
   "cell_type": "markdown",
   "id": "56a6a5b1",
   "metadata": {},
   "source": [
    "**2. Trường hợp ước lượng cho tỷ lệ:**"
   ]
  },
  {
   "cell_type": "markdown",
   "id": "48834b2a",
   "metadata": {},
   "source": [
    "- Viết hàm **sample.size.prop** trả về **cỡ mẫu tối thiểu** để ước lượng được **tỷ lệ** với sai số không quá **`margin.error`** và độ tin cậy **`conf.level`** (kích thước mẫu sơ bộ là **`num.sample`**).\n",
    "- Hàm nhận vào 4 tham số:\n",
    " - **attribute**: tính chất A cần xét\n",
    " - **data**: cột vector cần ước lượng\n",
    " - **num.sample**: kích thước mẫu sơ bộ\n",
    " - **margin.error**: sai số\n",
    " - **conf.level**: độ tin cậy"
   ]
  },
  {
   "cell_type": "code",
   "execution_count": 46,
   "id": "b752f503",
   "metadata": {},
   "outputs": [],
   "source": [
    "sample.size.prop <- function(data, attribute, num.sample, margin.eror, conf.level) {\n",
    "    p.k = 0\n",
    "    \n",
    "    while(TRUE) {\n",
    "        new.sample = sample(data, num.sample)\n",
    "        k = sum(new.sample == attribute)\n",
    "        p.k = k/n\n",
    "\n",
    "        if(p.k*num.sample >= 5 && (1-p.k)*num.sample >= 5) {\n",
    "            break\n",
    "        }\n",
    "    }\n",
    "    \n",
    "    return(qnorm(1 - (1 - conf.level)/2)^2 * p.k * (1 - p.k) / margin.eror^2)\n",
    "}"
   ]
  },
  {
   "cell_type": "code",
   "execution_count": 47,
   "id": "9d8b9c2b",
   "metadata": {},
   "outputs": [
    {
     "name": "stdout",
     "output_type": "stream",
     "text": [
      "[1] 1287.2\n"
     ]
    }
   ],
   "source": [
    "print(sample.size.prop(abalone$sex, \"M\", 400, 0.01, 0.95))"
   ]
  },
  {
   "cell_type": "code",
   "execution_count": 70,
   "id": "143b76b4",
   "metadata": {},
   "outputs": [],
   "source": [
    "get.sample.size.prop = function(times, data, attribute, num.sample, margin.error, conf.level) {\n",
    "    sample.size = c()\n",
    "    for(it in 1:times) {\n",
    "        temp = sample.size.prop(data, attribute, num.sample, margin.error, conf.level)\n",
    "        sample.size = c(sample.size, temp)\n",
    "    }\n",
    "    # print(sample.size)\n",
    "    print(\"Khoang tin cay cua co mau voi do tin cay 0.99:\")\n",
    "    print(t.test(x = sample.size, alternative = \"two.sided\", conf.level = 0.99)$conf.int[1])\n",
    "    print(t.test(x = sample.size, alternative = \"two.sided\", conf.level = 0.99)$conf.int[2])\n",
    "    return(mean(sample.size))\n",
    "}\n"
   ]
  },
  {
   "cell_type": "markdown",
   "id": "969a4192",
   "metadata": {},
   "source": [
    "Tìm cỡ mẫu với 200 mẫu sơ bộ có kích thước 400, ta thu được cỡ mẫu trung bình cần tìm:"
   ]
  },
  {
   "cell_type": "code",
   "execution_count": 80,
   "id": "ab5e2953",
   "metadata": {},
   "outputs": [
    {
     "name": "stdout",
     "output_type": "stream",
     "text": [
      "[1] \"Khoang tin cay cua co mau voi do tin cay 0.99:\"\n",
      "[1] 1286.3\n",
      "[1] 1316.3\n"
     ]
    },
    {
     "data": {
      "text/html": [
       "'Co mau trung binh can tim: 1302'"
      ],
      "text/latex": [
       "'Co mau trung binh can tim: 1302'"
      ],
      "text/markdown": [
       "'Co mau trung binh can tim: 1302'"
      ],
      "text/plain": [
       "[1] \"Co mau trung binh can tim: 1302\""
      ]
     },
     "metadata": {},
     "output_type": "display_data"
    }
   ],
   "source": [
    "answer = get.sample.size.prop(200, abalone$sex, \"M\", 400, 0.01, 0.95)\n",
    "sprintf(\"Co mau trung binh can tim: %d\", ceiling(answer))"
   ]
  },
  {
   "cell_type": "markdown",
   "id": "809dfb0f",
   "metadata": {},
   "source": [
    ">> - Ta thu được khoảng tin cậy của cỡ mẫu với độ tin cậy 0.99 là **(1286.3; 1316.3)**\n",
    "\n",
    ">> - Cỡ mẫu trung bình cần tìm là: **1302**"
   ]
  },
  {
   "cell_type": "markdown",
   "id": "dc02a864",
   "metadata": {},
   "source": [
    "- Áp dụng công thức: $n \\geq \\dfrac{(u_{1-\\alpha/2})^2}{4\\epsilon^2}$\n",
    " - Với sai số **0.01** và độ tin cậy **0.95**, ta thu được cỡ mẫu:"
   ]
  },
  {
   "cell_type": "code",
   "execution_count": 79,
   "id": "a1667b6d",
   "metadata": {},
   "outputs": [
    {
     "name": "stdout",
     "output_type": "stream",
     "text": [
      "[1] 9603.6\n"
     ]
    }
   ],
   "source": [
    "margin.error = 0.01\n",
    "conf.level = 0.95\n",
    "answer = qnorm(1 - (1 - conf.level)/2)^2 / (4*margin.error^2)\n",
    "print(answer)"
   ]
  },
  {
   "cell_type": "markdown",
   "id": "ce6a55f6",
   "metadata": {},
   "source": [
    ">> Ta thu được cỡ mẫu tối thiểu cần thiết là **9604**"
   ]
  },
  {
   "cell_type": "markdown",
   "id": "6c61d258",
   "metadata": {},
   "source": [
    "### Nhận xét:\n",
    "Trong trường hợp của bài toàn này, cỡ mẫu tìm được bằng hàm tự việt tối ưu hơn so với dùng công thức Cauchy (1302 so với 9604)."
   ]
  }
 ],
 "metadata": {
  "kernelspec": {
   "display_name": "R",
   "language": "R",
   "name": "ir"
  },
  "language_info": {
   "codemirror_mode": "r",
   "file_extension": ".r",
   "mimetype": "text/x-r-source",
   "name": "R",
   "pygments_lexer": "r",
   "version": "3.6.3"
  }
 },
 "nbformat": 4,
 "nbformat_minor": 5
}
